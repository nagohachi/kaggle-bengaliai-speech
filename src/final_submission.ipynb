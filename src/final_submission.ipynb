{
 "cells": [
  {
   "cell_type": "markdown",
   "id": "361aea53",
   "metadata": {},
   "source": [
    "This notebook is based on : https://www.kaggle.com/code/ttahara/bengali-sr-umong-sain-s-wav2vec2-0-w-lm-baseline .\n",
    "\n",
    "Make sure to execute files below before running this notebook:\n",
    "1. train/finetune_fole_without_unigrams.py\n",
    "2. train/finetune_with_commonvoice.py"
   ]
  },
  {
   "cell_type": "markdown",
   "id": "a4d5a8ed",
   "metadata": {
    "papermill": {
     "duration": 0.004415,
     "end_time": "2023-10-16T08:56:35.500619",
     "exception": false,
     "start_time": "2023-10-16T08:56:35.496204",
     "status": "completed"
    },
    "tags": []
   },
   "source": [
    "## Install packages \n",
    "This part is needed only on Kaggle Notebook. packages can be obtained from [here](https://www.kaggle.com/datasets/nagohachi/bengaliai-packages/)"
   ]
  },
  {
   "cell_type": "code",
   "execution_count": 3,
   "id": "8d3c7ef0",
   "metadata": {
    "_kg_hide-output": true,
    "execution": {
     "iopub.execute_input": "2023-10-16T08:56:35.545866Z",
     "iopub.status.busy": "2023-10-16T08:56:35.545602Z",
     "iopub.status.idle": "2023-10-16T08:58:13.999676Z",
     "shell.execute_reply": "2023-10-16T08:58:13.998291Z"
    },
    "papermill": {
     "duration": 98.462276,
     "end_time": "2023-10-16T08:58:14.002296",
     "exception": false,
     "start_time": "2023-10-16T08:56:35.540020",
     "status": "completed"
    },
    "tags": []
   },
   "outputs": [
    {
     "name": "stdout",
     "output_type": "stream",
     "text": [
      "Looking in links: ./\r\n",
      "Processing ./bengaliai-packages/setuptools-65.7.0-py3-none-any.whl\r\n",
      "Installing collected packages: setuptools\r\n",
      "  Attempting uninstall: setuptools\r\n",
      "    Found existing installation: setuptools 59.8.0\r\n",
      "    Uninstalling setuptools-59.8.0:\r\n",
      "      Successfully uninstalled setuptools-59.8.0\r\n",
      "\u001b[31mERROR: pip's dependency resolver does not currently take into account all the packages that are installed. This behaviour is the source of the following dependency conflicts.\r\n",
      "opentelemetry-api 1.18.0 requires importlib-metadata~=6.0.0, but you have importlib-metadata 6.7.0 which is incompatible.\r\n",
      "pymc3 3.11.5 requires numpy<1.22.2,>=1.15.0, but you have numpy 1.23.5 which is incompatible.\r\n",
      "pymc3 3.11.5 requires scipy<1.8.0,>=1.7.3, but you have scipy 1.11.1 which is incompatible.\u001b[0m\u001b[31m\r\n",
      "\u001b[0mSuccessfully installed setuptools-65.7.0\r\n",
      "Looking in links: ./\r\n",
      "Processing ./bengaliai-packages/jiwer-3.0.3-py3-none-any.whl\r\n",
      "Requirement already satisfied: click<9.0.0,>=8.1.3 in /opt/conda/lib/python3.10/site-packages (from jiwer==3.0.3) (8.1.3)\r\n",
      "Requirement already satisfied: rapidfuzz<4,>=3 in /opt/conda/lib/python3.10/site-packages (from jiwer==3.0.3) (3.1.1)\r\n",
      "Installing collected packages: jiwer\r\n",
      "Successfully installed jiwer-3.0.3\r\n",
      "Looking in links: ./\r\n",
      "Processing ./bengaliai-packages/bnunicodenormalizer-0.1.6/bnunicodenormalizer-0.1.6\r\n",
      "  Preparing metadata (setup.py) ... \u001b[?25ldone\r\n",
      "\u001b[?25hBuilding wheels for collected packages: bnunicodenormalizer\r\n",
      "  Building wheel for bnunicodenormalizer (setup.py) ... \u001b[?25l-\b \bdone\r\n",
      "\u001b[?25h  Created wheel for bnunicodenormalizer: filename=bnunicodenormalizer-0.1.6-py3-none-any.whl size=22779 sha256=9d1be32909d5d75e576bb8b6c94812a9400e74634a2ce176eaa8fd104c85580b\r\n",
      "  Stored in directory: /root/.cache/pip/wheels/1f/af/0f/33a2a614599e750d04aa50efd356ea7b8ac835d8fb5de3e0f7\r\n",
      "Successfully built bnunicodenormalizer\r\n",
      "Installing collected packages: bnunicodenormalizer\r\n",
      "Successfully installed bnunicodenormalizer-0.1.6\r\n",
      "Looking in links: ./\r\n",
      "Processing ./bengaliai-packages/attrs-23.1.0-py3-none-any.whl\r\n",
      "attrs is already installed with the same version as the provided wheel. Use --force-reinstall to force an installation of the wheel.\r\n",
      "Looking in links: ./\r\n",
      "Processing ./bengaliai-packages/exceptiongroup-1.1.3-py3-none-any.whl\r\n",
      "Installing collected packages: exceptiongroup\r\n",
      "  Attempting uninstall: exceptiongroup\r\n",
      "    Found existing installation: exceptiongroup 1.1.1\r\n",
      "    Uninstalling exceptiongroup-1.1.1:\r\n",
      "      Successfully uninstalled exceptiongroup-1.1.1\r\n",
      "Successfully installed exceptiongroup-1.1.1\r\n",
      "Looking in links: ./\r\n",
      "Processing ./bengaliai-packages/hypothesis-6.87.0-py3-none-any.whl\r\n",
      "Installing collected packages: hypothesis\r\n",
      "Successfully installed hypothesis-6.87.0\r\n",
      "Looking in links: ./\r\n",
      "Processing ./bengaliai-packages/pygtrie-2.5.0-py3-none-any.whl\r\n",
      "Installing collected packages: pygtrie\r\n",
      "Successfully installed pygtrie-2.5.0\r\n",
      "Looking in links: ./\r\n",
      "Processing ./bengaliai-packages/sortedcontainers-2.4.0-py2.py3-none-any.whl\r\n",
      "sortedcontainers is already installed with the same version as the provided wheel. Use --force-reinstall to force an installation of the wheel.\r\n",
      "Looking in links: ./\r\n",
      "Processing ./bengaliai-packages/pyctcdecode-0.5.0-py2.py3-none-any.whl\r\n",
      "Installing collected packages: pyctcdecode\r\n",
      "Successfully installed pyctcdecode-0.5.0\r\n",
      "Looking in links: ./\r\n",
      "Processing ./bengaliai-packages/pypi-kenlm-0.1.20220713/pypi-kenlm-0.1.20220713\r\n",
      "  Preparing metadata (setup.py) ... \u001b[?25ldone\r\n",
      "\u001b[?25hBuilding wheels for collected packages: pypi-kenlm\r\n",
      "  Building wheel for pypi-kenlm (setup.py) ... \u001b[?25l-\b \b\\\b \bdone\r\n",
      "\u001b[?25h  Created wheel for pypi-kenlm: filename=pypi_kenlm-0.1.20220713-cp310-cp310-linux_x86_64.whl size=333233 sha256=b3fa4d9fde97eaa41dbf88b90c8bed51720650b8c06ab95419c122e871ba3af8\r\n",
      "  Stored in directory: /root/.cache/pip/wheels/90/16/1f/e643037a72d60ef026535ccf191825d7dc31d9cfe77faa61e3\r\n",
      "Successfully built pypi-kenlm\r\n",
      "Installing collected packages: pypi-kenlm\r\n",
      "Successfully installed pypi-kenlm-0.1.20220713\r\n"
     ]
    }
   ],
   "source": [
    "# !cp -r ../input/bengaliai-packages ./\n",
    "\n",
    "# !pip install ./bengaliai-packages/setuptools-65.7.0-py3-none-any.whl -f ./ --no-index\n",
    "# !pip install ./bengaliai-packages/jiwer-3.0.3-py3-none-any.whl -f ./ --no-index\n",
    "# !pip install ./bengaliai-packages/bnunicodenormalizer-0.1.6/bnunicodenormalizer-0.1.6 -f ./ --no-index\n",
    "# !pip install ./bengaliai-packages/attrs-23.1.0-py3-none-any.whl -f ./ --no-index --no-deps\n",
    "# !pip install ./bengaliai-packages/exceptiongroup-1.1.3-py3-none-any.whl -f ./ --no-index --no-deps\n",
    "# !pip install ./bengaliai-packages/hypothesis-6.87.0-py3-none-any.whl -f ./ --no-index --no-deps\n",
    "# !pip install ./bengaliai-packages/pygtrie-2.5.0-py3-none-any.whl -f ./ --no-index --no-deps\n",
    "# !pip install ./bengaliai-packages/sortedcontainers-2.4.0-py2.py3-none-any.whl -f ./ --no-index --no-deps\n",
    "# !pip install ./bengaliai-packages/pyctcdecode-0.5.0-py2.py3-none-any.whl -f ./ --no-index --no-deps\n",
    "# !pip install ./bengaliai-packages/pypi-kenlm-0.1.20220713/pypi-kenlm-0.1.20220713 -f ./ --no-index --no-deps\n",
    "\n",
    "# !rm -rf ./bengaliai-packages"
   ]
  },
  {
   "cell_type": "code",
   "execution_count": 5,
   "id": "03dc00b3",
   "metadata": {
    "_cell_guid": "b1076dfc-b9ad-4769-8c92-a6c4dae69d19",
    "_uuid": "8f2839f25d086af736a60e9eeb907d3b93b6e0e5",
    "execution": {
     "iopub.execute_input": "2023-10-16T08:58:14.038652Z",
     "iopub.status.busy": "2023-10-16T08:58:14.037974Z",
     "iopub.status.idle": "2023-10-16T08:58:27.358280Z",
     "shell.execute_reply": "2023-10-16T08:58:27.357173Z"
    },
    "papermill": {
     "duration": 13.330294,
     "end_time": "2023-10-16T08:58:27.360850",
     "exception": false,
     "start_time": "2023-10-16T08:58:14.030556",
     "status": "completed"
    },
    "tags": []
   },
   "outputs": [
    {
     "name": "stderr",
     "output_type": "stream",
     "text": [
      "/opt/conda/lib/python3.10/site-packages/scipy/__init__.py:146: UserWarning: A NumPy version >=1.16.5 and <1.23.0 is required for this version of SciPy (detected version 1.23.5\n",
      "  warnings.warn(f\"A NumPy version >={np_minversion} and <{np_maxversion}\"\n",
      "/opt/conda/lib/python3.10/site-packages/tensorflow_io/python/ops/__init__.py:98: UserWarning: unable to load libtensorflow_io_plugins.so: unable to open file: libtensorflow_io_plugins.so, from paths: ['/opt/conda/lib/python3.10/site-packages/tensorflow_io/python/ops/libtensorflow_io_plugins.so']\n",
      "caused by: ['/opt/conda/lib/python3.10/site-packages/tensorflow_io/python/ops/libtensorflow_io_plugins.so: undefined symbol: _ZN3tsl6StatusC1EN10tensorflow5error4CodeESt17basic_string_viewIcSt11char_traitsIcEENS_14SourceLocationE']\n",
      "  warnings.warn(f\"unable to load libtensorflow_io_plugins.so: {e}\")\n",
      "/opt/conda/lib/python3.10/site-packages/tensorflow_io/python/ops/__init__.py:104: UserWarning: file system plugins are not loaded: unable to open file: libtensorflow_io.so, from paths: ['/opt/conda/lib/python3.10/site-packages/tensorflow_io/python/ops/libtensorflow_io.so']\n",
      "caused by: ['/opt/conda/lib/python3.10/site-packages/tensorflow_io/python/ops/libtensorflow_io.so: undefined symbol: _ZTVN10tensorflow13GcsFileSystemE']\n",
      "  warnings.warn(f\"file system plugins are not loaded: {e}\")\n"
     ]
    }
   ],
   "source": [
    "from pathlib import Path\n",
    "from functools import partial\n",
    "\n",
    "import pandas as pd\n",
    "import pyctcdecode\n",
    "from tqdm.notebook import tqdm\n",
    "\n",
    "import librosa\n",
    "\n",
    "import pyctcdecode\n",
    "import torch\n",
    "from transformers import Wav2Vec2Processor, Wav2Vec2ProcessorWithLM, Wav2Vec2ForCTC\n",
    "from bnunicodenormalizer import Normalizer"
   ]
  },
  {
   "cell_type": "code",
   "execution_count": 6,
   "id": "2c98db37",
   "metadata": {
    "execution": {
     "iopub.execute_input": "2023-10-16T08:58:27.377392Z",
     "iopub.status.busy": "2023-10-16T08:58:27.376311Z",
     "iopub.status.idle": "2023-10-16T08:58:27.384750Z",
     "shell.execute_reply": "2023-10-16T08:58:27.383790Z"
    },
    "papermill": {
     "duration": 0.020072,
     "end_time": "2023-10-16T08:58:27.388063",
     "exception": false,
     "start_time": "2023-10-16T08:58:27.367991",
     "status": "completed"
    },
    "tags": []
   },
   "outputs": [],
   "source": [
    "ROOT = Path.cwd().parent\n",
    "INPUT = ROOT / \"input\"\n",
    "DATA = INPUT / \"bengaliai-speech\"\n",
    "TRAIN = DATA / \"train_mp3s\"\n",
    "TEST = DATA / \"test_mp3s\"\n",
    "\n",
    "SAMPLING_RATE = 16_000\n",
    "MODEL_PATH = INPUT / \"wav2vec2-small-finetuned-with-commonvoice/\" # finetuned again with commonvoice\n",
    "LM_PATH = INPUT / \"bengali-sr-download-public-trained-models/wav2vec2-xls-r-300m-bengali/language_model/\""
   ]
  },
  {
   "cell_type": "markdown",
   "id": "0bc14f61",
   "metadata": {
    "papermill": {
     "duration": 0.007101,
     "end_time": "2023-10-16T08:58:27.402497",
     "exception": false,
     "start_time": "2023-10-16T08:58:27.395396",
     "status": "completed"
    },
    "tags": []
   },
   "source": [
    "### load model, processor, decoder"
   ]
  },
  {
   "cell_type": "code",
   "execution_count": 7,
   "id": "4a66cbb2",
   "metadata": {
    "execution": {
     "iopub.execute_input": "2023-10-16T08:58:27.418794Z",
     "iopub.status.busy": "2023-10-16T08:58:27.417726Z",
     "iopub.status.idle": "2023-10-16T08:58:42.224164Z",
     "shell.execute_reply": "2023-10-16T08:58:42.223203Z"
    },
    "papermill": {
     "duration": 14.81722,
     "end_time": "2023-10-16T08:58:42.226559",
     "exception": false,
     "start_time": "2023-10-16T08:58:27.409339",
     "status": "completed"
    },
    "tags": []
   },
   "outputs": [],
   "source": [
    "model = Wav2Vec2ForCTC.from_pretrained(MODEL_PATH)\n",
    "processor = Wav2Vec2Processor.from_pretrained(MODEL_PATH)"
   ]
  },
  {
   "cell_type": "code",
   "execution_count": 8,
   "id": "87c0b9c3",
   "metadata": {
    "execution": {
     "iopub.execute_input": "2023-10-16T08:58:42.241586Z",
     "iopub.status.busy": "2023-10-16T08:58:42.241077Z",
     "iopub.status.idle": "2023-10-16T08:59:22.154377Z",
     "shell.execute_reply": "2023-10-16T08:59:22.153314Z"
    },
    "papermill": {
     "duration": 39.929622,
     "end_time": "2023-10-16T08:59:22.163174",
     "exception": false,
     "start_time": "2023-10-16T08:58:42.233552",
     "status": "completed"
    },
    "tags": []
   },
   "outputs": [],
   "source": [
    "vocab_dict = processor.tokenizer.get_vocab()\n",
    "sorted_vocab_dict = {k: v for k, v in sorted(vocab_dict.items(), key=lambda item: item[1])}\n",
    "\n",
    "decoder = pyctcdecode.build_ctcdecoder(\n",
    "    list(sorted_vocab_dict.keys()),\n",
    "    str(LM_PATH / \"5gram.bin\"),\n",
    ")"
   ]
  },
  {
   "cell_type": "code",
   "execution_count": 9,
   "id": "543518de",
   "metadata": {
    "execution": {
     "iopub.execute_input": "2023-10-16T08:59:22.177933Z",
     "iopub.status.busy": "2023-10-16T08:59:22.177582Z",
     "iopub.status.idle": "2023-10-16T08:59:22.182490Z",
     "shell.execute_reply": "2023-10-16T08:59:22.181427Z"
    },
    "papermill": {
     "duration": 0.014693,
     "end_time": "2023-10-16T08:59:22.184536",
     "exception": false,
     "start_time": "2023-10-16T08:59:22.169843",
     "status": "completed"
    },
    "tags": []
   },
   "outputs": [],
   "source": [
    "processor_with_lm = Wav2Vec2ProcessorWithLM(\n",
    "    feature_extractor=processor.feature_extractor,\n",
    "    tokenizer=processor.tokenizer,\n",
    "    decoder=decoder\n",
    ")"
   ]
  },
  {
   "cell_type": "markdown",
   "id": "426be4ed",
   "metadata": {
    "papermill": {
     "duration": 0.006485,
     "end_time": "2023-10-16T08:59:22.197887",
     "exception": false,
     "start_time": "2023-10-16T08:59:22.191402",
     "status": "completed"
    },
    "tags": []
   },
   "source": [
    "## prepare dataloader"
   ]
  },
  {
   "cell_type": "code",
   "execution_count": 10,
   "id": "cbc95696",
   "metadata": {
    "execution": {
     "iopub.execute_input": "2023-10-16T08:59:22.212214Z",
     "iopub.status.busy": "2023-10-16T08:59:22.211872Z",
     "iopub.status.idle": "2023-10-16T08:59:22.217973Z",
     "shell.execute_reply": "2023-10-16T08:59:22.216814Z"
    },
    "papermill": {
     "duration": 0.015533,
     "end_time": "2023-10-16T08:59:22.219934",
     "exception": false,
     "start_time": "2023-10-16T08:59:22.204401",
     "status": "completed"
    },
    "tags": []
   },
   "outputs": [],
   "source": [
    "class BengaliSRTestDataset(torch.utils.data.Dataset):\n",
    "    \n",
    "    def __init__(\n",
    "        self,\n",
    "        audio_paths: list[str],\n",
    "        sampling_rate: int\n",
    "    ):\n",
    "        self.audio_paths = audio_paths\n",
    "        self.sampling_rate = sampling_rate\n",
    "        \n",
    "    def __len__(self,):\n",
    "        return len(self.audio_paths)\n",
    "    \n",
    "    def __getitem__(self, index: int):\n",
    "        audio_path = self.audio_paths[index]\n",
    "        sr = self.sampling_rate\n",
    "        w = librosa.load(audio_path, sr=sr, mono=False)[0]\n",
    "        \n",
    "        return w"
   ]
  },
  {
   "cell_type": "code",
   "execution_count": 11,
   "id": "d6a08397",
   "metadata": {
    "execution": {
     "iopub.execute_input": "2023-10-16T08:59:22.234442Z",
     "iopub.status.busy": "2023-10-16T08:59:22.233842Z",
     "iopub.status.idle": "2023-10-16T08:59:22.256345Z",
     "shell.execute_reply": "2023-10-16T08:59:22.254849Z"
    },
    "papermill": {
     "duration": 0.031881,
     "end_time": "2023-10-16T08:59:22.258526",
     "exception": false,
     "start_time": "2023-10-16T08:59:22.226645",
     "status": "completed"
    },
    "tags": []
   },
   "outputs": [
    {
     "name": "stdout",
     "output_type": "stream",
     "text": [
      "             id                                           sentence\n",
      "0  0f3dac00655e  এছাড়াও নিউজিল্যান্ড এ ক্রিকেট দলের হয়েও খেলছ...\n",
      "1  a9395e01ad21  এছাড়াও নিউজিল্যান্ড এ ক্রিকেট দলের হয়েও খেলছ...\n",
      "2  bf36ea8b718d  এছাড়াও নিউজিল্যান্ড এ ক্রিকেট দলের হয়েও খেলছ...\n"
     ]
    }
   ],
   "source": [
    "test = pd.read_csv(DATA / \"sample_submission.csv\", dtype={\"id\": str})\n",
    "print(test.head())"
   ]
  },
  {
   "cell_type": "code",
   "execution_count": 12,
   "id": "347003d2",
   "metadata": {
    "execution": {
     "iopub.execute_input": "2023-10-16T08:59:22.273504Z",
     "iopub.status.busy": "2023-10-16T08:59:22.273171Z",
     "iopub.status.idle": "2023-10-16T08:59:22.278225Z",
     "shell.execute_reply": "2023-10-16T08:59:22.277198Z"
    },
    "papermill": {
     "duration": 0.014824,
     "end_time": "2023-10-16T08:59:22.280399",
     "exception": false,
     "start_time": "2023-10-16T08:59:22.265575",
     "status": "completed"
    },
    "tags": []
   },
   "outputs": [],
   "source": [
    "test_audio_paths = [str(TEST / f\"{aid}.mp3\") for aid in test[\"id\"].values]"
   ]
  },
  {
   "cell_type": "code",
   "execution_count": 13,
   "id": "f34dfc50",
   "metadata": {
    "execution": {
     "iopub.execute_input": "2023-10-16T08:59:22.294667Z",
     "iopub.status.busy": "2023-10-16T08:59:22.294039Z",
     "iopub.status.idle": "2023-10-16T08:59:22.300082Z",
     "shell.execute_reply": "2023-10-16T08:59:22.299221Z"
    },
    "papermill": {
     "duration": 0.015622,
     "end_time": "2023-10-16T08:59:22.302268",
     "exception": false,
     "start_time": "2023-10-16T08:59:22.286646",
     "status": "completed"
    },
    "tags": []
   },
   "outputs": [],
   "source": [
    "test_dataset = BengaliSRTestDataset(\n",
    "    test_audio_paths, SAMPLING_RATE\n",
    ")\n",
    "\n",
    "collate_func = partial(\n",
    "    processor_with_lm.feature_extractor,\n",
    "    return_tensors=\"pt\", sampling_rate=SAMPLING_RATE,\n",
    "    padding=True,\n",
    ")\n",
    "\n",
    "test_loader = torch.utils.data.DataLoader(\n",
    "    test_dataset, batch_size=8, shuffle=False,\n",
    "    num_workers=2, collate_fn=collate_func, drop_last=False,\n",
    "    pin_memory=True,\n",
    ")"
   ]
  },
  {
   "cell_type": "markdown",
   "id": "9b177da6",
   "metadata": {
    "papermill": {
     "duration": 0.006648,
     "end_time": "2023-10-16T08:59:22.315666",
     "exception": false,
     "start_time": "2023-10-16T08:59:22.309018",
     "status": "completed"
    },
    "tags": []
   },
   "source": [
    "## Inference"
   ]
  },
  {
   "cell_type": "code",
   "execution_count": 14,
   "id": "45d2e26b",
   "metadata": {
    "execution": {
     "iopub.execute_input": "2023-10-16T08:59:22.330442Z",
     "iopub.status.busy": "2023-10-16T08:59:22.330074Z",
     "iopub.status.idle": "2023-10-16T08:59:22.408385Z",
     "shell.execute_reply": "2023-10-16T08:59:22.407270Z"
    },
    "papermill": {
     "duration": 0.088219,
     "end_time": "2023-10-16T08:59:22.410573",
     "exception": false,
     "start_time": "2023-10-16T08:59:22.322354",
     "status": "completed"
    },
    "tags": []
   },
   "outputs": [
    {
     "name": "stdout",
     "output_type": "stream",
     "text": [
      "cuda\n"
     ]
    }
   ],
   "source": [
    "if not torch.cuda.is_available():\n",
    "    device = torch.device(\"cpu\")\n",
    "else:\n",
    "    device = torch.device(\"cuda\")\n",
    "print(device)"
   ]
  },
  {
   "cell_type": "code",
   "execution_count": 15,
   "id": "a5a8001f",
   "metadata": {
    "execution": {
     "iopub.execute_input": "2023-10-16T08:59:22.426118Z",
     "iopub.status.busy": "2023-10-16T08:59:22.425798Z",
     "iopub.status.idle": "2023-10-16T08:59:28.596081Z",
     "shell.execute_reply": "2023-10-16T08:59:28.594974Z"
    },
    "papermill": {
     "duration": 6.180892,
     "end_time": "2023-10-16T08:59:28.598527",
     "exception": false,
     "start_time": "2023-10-16T08:59:22.417635",
     "status": "completed"
    },
    "tags": []
   },
   "outputs": [],
   "source": [
    "model = model.to(device)\n",
    "model = model.eval()\n",
    "model = model.half()"
   ]
  },
  {
   "cell_type": "code",
   "execution_count": 16,
   "id": "805d6f0b",
   "metadata": {
    "execution": {
     "iopub.execute_input": "2023-10-16T08:59:28.613924Z",
     "iopub.status.busy": "2023-10-16T08:59:28.613607Z",
     "iopub.status.idle": "2023-10-16T08:59:43.447681Z",
     "shell.execute_reply": "2023-10-16T08:59:43.446441Z"
    },
    "papermill": {
     "duration": 14.844117,
     "end_time": "2023-10-16T08:59:43.449833",
     "exception": false,
     "start_time": "2023-10-16T08:59:28.605716",
     "status": "completed"
    },
    "tags": []
   },
   "outputs": [
    {
     "data": {
      "application/vnd.jupyter.widget-view+json": {
       "model_id": "46a08ac8af534fef98ac020e84c426e6",
       "version_major": 2,
       "version_minor": 0
      },
      "text/plain": [
       "  0%|          | 0/1 [00:00<?, ?it/s]"
      ]
     },
     "metadata": {},
     "output_type": "display_data"
    }
   ],
   "source": [
    "pred_sentence_list = []\n",
    "\n",
    "with torch.no_grad():\n",
    "    for batch in tqdm(test_loader):\n",
    "        x = batch[\"input_values\"]\n",
    "        x = x.to(device, non_blocking=True)\n",
    "        with torch.cuda.amp.autocast(True):\n",
    "            y = model(x).logits\n",
    "        y = y.detach().cpu().numpy()\n",
    "        \n",
    "#         {'alpha': 0.345, 'beta': 0.06, 'beam_width': 768}\n",
    "        for l in y:  \n",
    "            sentence = processor_with_lm.decode(\n",
    "                l, beam_width=2000, \n",
    "                alpha=0.345, \n",
    "                beta=0.06\n",
    "            ).text\n",
    "            pred_sentence_list.append(sentence)"
   ]
  },
  {
   "cell_type": "markdown",
   "id": "04c80836",
   "metadata": {
    "papermill": {
     "duration": 0.00636,
     "end_time": "2023-10-16T08:59:43.463903",
     "exception": false,
     "start_time": "2023-10-16T08:59:43.457543",
     "status": "completed"
    },
    "tags": []
   },
   "source": [
    "## Make Submission"
   ]
  },
  {
   "cell_type": "code",
   "execution_count": 17,
   "id": "9feff34b",
   "metadata": {
    "execution": {
     "iopub.execute_input": "2023-10-16T08:59:43.478785Z",
     "iopub.status.busy": "2023-10-16T08:59:43.478447Z",
     "iopub.status.idle": "2023-10-16T08:59:43.485219Z",
     "shell.execute_reply": "2023-10-16T08:59:43.484135Z"
    },
    "papermill": {
     "duration": 0.016562,
     "end_time": "2023-10-16T08:59:43.487157",
     "exception": false,
     "start_time": "2023-10-16T08:59:43.470595",
     "status": "completed"
    },
    "tags": []
   },
   "outputs": [],
   "source": [
    "bnorm = Normalizer()\n",
    "\n",
    "def postprocess(sentence):\n",
    "    period_set = set([\".\", \"?\", \"!\", \"।\"])\n",
    "    _words = [bnorm(word)['normalized']  for word in sentence.split()]\n",
    "    sentence = \" \".join([word for word in _words if word is not None])\n",
    "    try:\n",
    "        if sentence[-1] not in period_set:\n",
    "            sentence+=\"।\"\n",
    "    except:\n",
    "        sentence = \"।\"\n",
    "    return sentence"
   ]
  },
  {
   "cell_type": "code",
   "execution_count": 18,
   "id": "e0c02e8f",
   "metadata": {
    "execution": {
     "iopub.execute_input": "2023-10-16T08:59:43.501794Z",
     "iopub.status.busy": "2023-10-16T08:59:43.501474Z",
     "iopub.status.idle": "2023-10-16T08:59:43.534122Z",
     "shell.execute_reply": "2023-10-16T08:59:43.532847Z"
    },
    "papermill": {
     "duration": 0.042676,
     "end_time": "2023-10-16T08:59:43.536633",
     "exception": false,
     "start_time": "2023-10-16T08:59:43.493957",
     "status": "completed"
    },
    "tags": []
   },
   "outputs": [
    {
     "data": {
      "application/vnd.jupyter.widget-view+json": {
       "model_id": "c3e314ed238547858cf21dd1a45fa989",
       "version_major": 2,
       "version_minor": 0
      },
      "text/plain": [
       "  0%|          | 0/3 [00:00<?, ?it/s]"
      ]
     },
     "metadata": {},
     "output_type": "display_data"
    }
   ],
   "source": [
    "pp_pred_sentence_list = [\n",
    "    postprocess(s) for s in tqdm(pred_sentence_list)]"
   ]
  },
  {
   "cell_type": "code",
   "execution_count": 19,
   "id": "eb3b6532",
   "metadata": {
    "execution": {
     "iopub.execute_input": "2023-10-16T08:59:43.553306Z",
     "iopub.status.busy": "2023-10-16T08:59:43.552639Z",
     "iopub.status.idle": "2023-10-16T08:59:43.567400Z",
     "shell.execute_reply": "2023-10-16T08:59:43.566278Z"
    },
    "papermill": {
     "duration": 0.025577,
     "end_time": "2023-10-16T08:59:43.569517",
     "exception": false,
     "start_time": "2023-10-16T08:59:43.543940",
     "status": "completed"
    },
    "tags": []
   },
   "outputs": [
    {
     "name": "stdout",
     "output_type": "stream",
     "text": [
      "             id  \\\n",
      "0  0f3dac00655e   \n",
      "1  a9395e01ad21   \n",
      "2  bf36ea8b718d   \n",
      "\n",
      "                                                                sentence  \n",
      "0                                              একটু বয়স হলে একটি বিদেশি।  \n",
      "1  কী কারণে তুমি এতাবৎ কাল পর্যন্ত এ দারুল দৈব দুর্বিপাকে পতিত ছিলে বলো।  \n",
      "2             এ কারণে সরকার নির্ধারিত হারে পরিবহনজনিত ক্ষতি অনুমোদন করে।  \n"
     ]
    }
   ],
   "source": [
    "test[\"sentence\"] = pp_pred_sentence_list\n",
    "\n",
    "test.to_csv(\"submission.csv\", index=False)\n",
    "\n",
    "pd.set_option(\"display.max_colwidth\", 100)\n",
    "print(test.head())"
   ]
  },
  {
   "cell_type": "markdown",
   "id": "55cd722e",
   "metadata": {
    "papermill": {
     "duration": 0.007068,
     "end_time": "2023-10-16T08:59:43.584015",
     "exception": false,
     "start_time": "2023-10-16T08:59:43.576947",
     "status": "completed"
    },
    "tags": []
   },
   "source": [
    "## EOF"
   ]
  }
 ],
 "metadata": {
  "kernelspec": {
   "display_name": "Python 3",
   "language": "python",
   "name": "python3"
  },
  "language_info": {
   "codemirror_mode": {
    "name": "ipython",
    "version": 3
   },
   "file_extension": ".py",
   "mimetype": "text/x-python",
   "name": "python",
   "nbconvert_exporter": "python",
   "pygments_lexer": "ipython3",
   "version": "3.10.12"
  },
  "papermill": {
   "default_parameters": {},
   "duration": 200.880827,
   "end_time": "2023-10-16T08:59:47.067151",
   "environment_variables": {},
   "exception": null,
   "input_path": "__notebook__.ipynb",
   "output_path": "__notebook__.ipynb",
   "parameters": {},
   "start_time": "2023-10-16T08:56:26.186324",
   "version": "2.4.0"
  },
  "widgets": {
   "application/vnd.jupyter.widget-state+json": {
    "state": {
     "0698e2de313448acb8211b0bb3bb7930": {
      "model_module": "@jupyter-widgets/base",
      "model_module_version": "1.2.0",
      "model_name": "LayoutModel",
      "state": {
       "_model_module": "@jupyter-widgets/base",
       "_model_module_version": "1.2.0",
       "_model_name": "LayoutModel",
       "_view_count": null,
       "_view_module": "@jupyter-widgets/base",
       "_view_module_version": "1.2.0",
       "_view_name": "LayoutView",
       "align_content": null,
       "align_items": null,
       "align_self": null,
       "border": null,
       "bottom": null,
       "display": null,
       "flex": null,
       "flex_flow": null,
       "grid_area": null,
       "grid_auto_columns": null,
       "grid_auto_flow": null,
       "grid_auto_rows": null,
       "grid_column": null,
       "grid_gap": null,
       "grid_row": null,
       "grid_template_areas": null,
       "grid_template_columns": null,
       "grid_template_rows": null,
       "height": null,
       "justify_content": null,
       "justify_items": null,
       "left": null,
       "margin": null,
       "max_height": null,
       "max_width": null,
       "min_height": null,
       "min_width": null,
       "object_fit": null,
       "object_position": null,
       "order": null,
       "overflow": null,
       "overflow_x": null,
       "overflow_y": null,
       "padding": null,
       "right": null,
       "top": null,
       "visibility": null,
       "width": null
      }
     },
     "1401b159c40743e89e36e7b0634d4992": {
      "model_module": "@jupyter-widgets/controls",
      "model_module_version": "1.5.0",
      "model_name": "ProgressStyleModel",
      "state": {
       "_model_module": "@jupyter-widgets/controls",
       "_model_module_version": "1.5.0",
       "_model_name": "ProgressStyleModel",
       "_view_count": null,
       "_view_module": "@jupyter-widgets/base",
       "_view_module_version": "1.2.0",
       "_view_name": "StyleView",
       "bar_color": null,
       "description_width": ""
      }
     },
     "217c9e2526a54f81b8412fab77beb4a7": {
      "model_module": "@jupyter-widgets/base",
      "model_module_version": "1.2.0",
      "model_name": "LayoutModel",
      "state": {
       "_model_module": "@jupyter-widgets/base",
       "_model_module_version": "1.2.0",
       "_model_name": "LayoutModel",
       "_view_count": null,
       "_view_module": "@jupyter-widgets/base",
       "_view_module_version": "1.2.0",
       "_view_name": "LayoutView",
       "align_content": null,
       "align_items": null,
       "align_self": null,
       "border": null,
       "bottom": null,
       "display": null,
       "flex": null,
       "flex_flow": null,
       "grid_area": null,
       "grid_auto_columns": null,
       "grid_auto_flow": null,
       "grid_auto_rows": null,
       "grid_column": null,
       "grid_gap": null,
       "grid_row": null,
       "grid_template_areas": null,
       "grid_template_columns": null,
       "grid_template_rows": null,
       "height": null,
       "justify_content": null,
       "justify_items": null,
       "left": null,
       "margin": null,
       "max_height": null,
       "max_width": null,
       "min_height": null,
       "min_width": null,
       "object_fit": null,
       "object_position": null,
       "order": null,
       "overflow": null,
       "overflow_x": null,
       "overflow_y": null,
       "padding": null,
       "right": null,
       "top": null,
       "visibility": null,
       "width": null
      }
     },
     "3c57791e7071467f9fa69c2aa64f3248": {
      "model_module": "@jupyter-widgets/base",
      "model_module_version": "1.2.0",
      "model_name": "LayoutModel",
      "state": {
       "_model_module": "@jupyter-widgets/base",
       "_model_module_version": "1.2.0",
       "_model_name": "LayoutModel",
       "_view_count": null,
       "_view_module": "@jupyter-widgets/base",
       "_view_module_version": "1.2.0",
       "_view_name": "LayoutView",
       "align_content": null,
       "align_items": null,
       "align_self": null,
       "border": null,
       "bottom": null,
       "display": null,
       "flex": null,
       "flex_flow": null,
       "grid_area": null,
       "grid_auto_columns": null,
       "grid_auto_flow": null,
       "grid_auto_rows": null,
       "grid_column": null,
       "grid_gap": null,
       "grid_row": null,
       "grid_template_areas": null,
       "grid_template_columns": null,
       "grid_template_rows": null,
       "height": null,
       "justify_content": null,
       "justify_items": null,
       "left": null,
       "margin": null,
       "max_height": null,
       "max_width": null,
       "min_height": null,
       "min_width": null,
       "object_fit": null,
       "object_position": null,
       "order": null,
       "overflow": null,
       "overflow_x": null,
       "overflow_y": null,
       "padding": null,
       "right": null,
       "top": null,
       "visibility": null,
       "width": null
      }
     },
     "41b265491f174fcfaa731475ba224267": {
      "model_module": "@jupyter-widgets/base",
      "model_module_version": "1.2.0",
      "model_name": "LayoutModel",
      "state": {
       "_model_module": "@jupyter-widgets/base",
       "_model_module_version": "1.2.0",
       "_model_name": "LayoutModel",
       "_view_count": null,
       "_view_module": "@jupyter-widgets/base",
       "_view_module_version": "1.2.0",
       "_view_name": "LayoutView",
       "align_content": null,
       "align_items": null,
       "align_self": null,
       "border": null,
       "bottom": null,
       "display": null,
       "flex": null,
       "flex_flow": null,
       "grid_area": null,
       "grid_auto_columns": null,
       "grid_auto_flow": null,
       "grid_auto_rows": null,
       "grid_column": null,
       "grid_gap": null,
       "grid_row": null,
       "grid_template_areas": null,
       "grid_template_columns": null,
       "grid_template_rows": null,
       "height": null,
       "justify_content": null,
       "justify_items": null,
       "left": null,
       "margin": null,
       "max_height": null,
       "max_width": null,
       "min_height": null,
       "min_width": null,
       "object_fit": null,
       "object_position": null,
       "order": null,
       "overflow": null,
       "overflow_x": null,
       "overflow_y": null,
       "padding": null,
       "right": null,
       "top": null,
       "visibility": null,
       "width": null
      }
     },
     "441bb101084d444fb221f473f6247582": {
      "model_module": "@jupyter-widgets/base",
      "model_module_version": "1.2.0",
      "model_name": "LayoutModel",
      "state": {
       "_model_module": "@jupyter-widgets/base",
       "_model_module_version": "1.2.0",
       "_model_name": "LayoutModel",
       "_view_count": null,
       "_view_module": "@jupyter-widgets/base",
       "_view_module_version": "1.2.0",
       "_view_name": "LayoutView",
       "align_content": null,
       "align_items": null,
       "align_self": null,
       "border": null,
       "bottom": null,
       "display": null,
       "flex": null,
       "flex_flow": null,
       "grid_area": null,
       "grid_auto_columns": null,
       "grid_auto_flow": null,
       "grid_auto_rows": null,
       "grid_column": null,
       "grid_gap": null,
       "grid_row": null,
       "grid_template_areas": null,
       "grid_template_columns": null,
       "grid_template_rows": null,
       "height": null,
       "justify_content": null,
       "justify_items": null,
       "left": null,
       "margin": null,
       "max_height": null,
       "max_width": null,
       "min_height": null,
       "min_width": null,
       "object_fit": null,
       "object_position": null,
       "order": null,
       "overflow": null,
       "overflow_x": null,
       "overflow_y": null,
       "padding": null,
       "right": null,
       "top": null,
       "visibility": null,
       "width": null
      }
     },
     "46a08ac8af534fef98ac020e84c426e6": {
      "model_module": "@jupyter-widgets/controls",
      "model_module_version": "1.5.0",
      "model_name": "HBoxModel",
      "state": {
       "_dom_classes": [],
       "_model_module": "@jupyter-widgets/controls",
       "_model_module_version": "1.5.0",
       "_model_name": "HBoxModel",
       "_view_count": null,
       "_view_module": "@jupyter-widgets/controls",
       "_view_module_version": "1.5.0",
       "_view_name": "HBoxView",
       "box_style": "",
       "children": [
        "IPY_MODEL_5f85a05bf6804588afc830179b585336",
        "IPY_MODEL_86aa770fef184e24a3cdd15958c160b2",
        "IPY_MODEL_fbcb838f38d146bab1edef40caf36c93"
       ],
       "layout": "IPY_MODEL_80f2b83abc2e48339e6c7774036cc315"
      }
     },
     "5d8fd9ca2b2b44c1841eb8d83ab119e2": {
      "model_module": "@jupyter-widgets/controls",
      "model_module_version": "1.5.0",
      "model_name": "DescriptionStyleModel",
      "state": {
       "_model_module": "@jupyter-widgets/controls",
       "_model_module_version": "1.5.0",
       "_model_name": "DescriptionStyleModel",
       "_view_count": null,
       "_view_module": "@jupyter-widgets/base",
       "_view_module_version": "1.2.0",
       "_view_name": "StyleView",
       "description_width": ""
      }
     },
     "5f85a05bf6804588afc830179b585336": {
      "model_module": "@jupyter-widgets/controls",
      "model_module_version": "1.5.0",
      "model_name": "HTMLModel",
      "state": {
       "_dom_classes": [],
       "_model_module": "@jupyter-widgets/controls",
       "_model_module_version": "1.5.0",
       "_model_name": "HTMLModel",
       "_view_count": null,
       "_view_module": "@jupyter-widgets/controls",
       "_view_module_version": "1.5.0",
       "_view_name": "HTMLView",
       "description": "",
       "description_tooltip": null,
       "layout": "IPY_MODEL_441bb101084d444fb221f473f6247582",
       "placeholder": "​",
       "style": "IPY_MODEL_9d227f68c274467f98ed36974d3d8be2",
       "value": "100%"
      }
     },
     "80f2b83abc2e48339e6c7774036cc315": {
      "model_module": "@jupyter-widgets/base",
      "model_module_version": "1.2.0",
      "model_name": "LayoutModel",
      "state": {
       "_model_module": "@jupyter-widgets/base",
       "_model_module_version": "1.2.0",
       "_model_name": "LayoutModel",
       "_view_count": null,
       "_view_module": "@jupyter-widgets/base",
       "_view_module_version": "1.2.0",
       "_view_name": "LayoutView",
       "align_content": null,
       "align_items": null,
       "align_self": null,
       "border": null,
       "bottom": null,
       "display": null,
       "flex": null,
       "flex_flow": null,
       "grid_area": null,
       "grid_auto_columns": null,
       "grid_auto_flow": null,
       "grid_auto_rows": null,
       "grid_column": null,
       "grid_gap": null,
       "grid_row": null,
       "grid_template_areas": null,
       "grid_template_columns": null,
       "grid_template_rows": null,
       "height": null,
       "justify_content": null,
       "justify_items": null,
       "left": null,
       "margin": null,
       "max_height": null,
       "max_width": null,
       "min_height": null,
       "min_width": null,
       "object_fit": null,
       "object_position": null,
       "order": null,
       "overflow": null,
       "overflow_x": null,
       "overflow_y": null,
       "padding": null,
       "right": null,
       "top": null,
       "visibility": null,
       "width": null
      }
     },
     "86aa770fef184e24a3cdd15958c160b2": {
      "model_module": "@jupyter-widgets/controls",
      "model_module_version": "1.5.0",
      "model_name": "FloatProgressModel",
      "state": {
       "_dom_classes": [],
       "_model_module": "@jupyter-widgets/controls",
       "_model_module_version": "1.5.0",
       "_model_name": "FloatProgressModel",
       "_view_count": null,
       "_view_module": "@jupyter-widgets/controls",
       "_view_module_version": "1.5.0",
       "_view_name": "ProgressView",
       "bar_style": "success",
       "description": "",
       "description_tooltip": null,
       "layout": "IPY_MODEL_217c9e2526a54f81b8412fab77beb4a7",
       "max": 1,
       "min": 0,
       "orientation": "horizontal",
       "style": "IPY_MODEL_1401b159c40743e89e36e7b0634d4992",
       "value": 1
      }
     },
     "8b382127a24e4391b32790c4509a9981": {
      "model_module": "@jupyter-widgets/controls",
      "model_module_version": "1.5.0",
      "model_name": "HTMLModel",
      "state": {
       "_dom_classes": [],
       "_model_module": "@jupyter-widgets/controls",
       "_model_module_version": "1.5.0",
       "_model_name": "HTMLModel",
       "_view_count": null,
       "_view_module": "@jupyter-widgets/controls",
       "_view_module_version": "1.5.0",
       "_view_name": "HTMLView",
       "description": "",
       "description_tooltip": null,
       "layout": "IPY_MODEL_3c57791e7071467f9fa69c2aa64f3248",
       "placeholder": "​",
       "style": "IPY_MODEL_fb903db1baa24f429dc181b3c6cb8d29",
       "value": " 3/3 [00:00&lt;00:00, 112.81it/s]"
      }
     },
     "9d227f68c274467f98ed36974d3d8be2": {
      "model_module": "@jupyter-widgets/controls",
      "model_module_version": "1.5.0",
      "model_name": "DescriptionStyleModel",
      "state": {
       "_model_module": "@jupyter-widgets/controls",
       "_model_module_version": "1.5.0",
       "_model_name": "DescriptionStyleModel",
       "_view_count": null,
       "_view_module": "@jupyter-widgets/base",
       "_view_module_version": "1.2.0",
       "_view_name": "StyleView",
       "description_width": ""
      }
     },
     "a75346d1336640b583bddd58d8302fc5": {
      "model_module": "@jupyter-widgets/controls",
      "model_module_version": "1.5.0",
      "model_name": "DescriptionStyleModel",
      "state": {
       "_model_module": "@jupyter-widgets/controls",
       "_model_module_version": "1.5.0",
       "_model_name": "DescriptionStyleModel",
       "_view_count": null,
       "_view_module": "@jupyter-widgets/base",
       "_view_module_version": "1.2.0",
       "_view_name": "StyleView",
       "description_width": ""
      }
     },
     "b028afcd6a4f4c46909bb0148d56056f": {
      "model_module": "@jupyter-widgets/controls",
      "model_module_version": "1.5.0",
      "model_name": "ProgressStyleModel",
      "state": {
       "_model_module": "@jupyter-widgets/controls",
       "_model_module_version": "1.5.0",
       "_model_name": "ProgressStyleModel",
       "_view_count": null,
       "_view_module": "@jupyter-widgets/base",
       "_view_module_version": "1.2.0",
       "_view_name": "StyleView",
       "bar_color": null,
       "description_width": ""
      }
     },
     "b5d1c3e03f714a4990ef7a54a40334f2": {
      "model_module": "@jupyter-widgets/base",
      "model_module_version": "1.2.0",
      "model_name": "LayoutModel",
      "state": {
       "_model_module": "@jupyter-widgets/base",
       "_model_module_version": "1.2.0",
       "_model_name": "LayoutModel",
       "_view_count": null,
       "_view_module": "@jupyter-widgets/base",
       "_view_module_version": "1.2.0",
       "_view_name": "LayoutView",
       "align_content": null,
       "align_items": null,
       "align_self": null,
       "border": null,
       "bottom": null,
       "display": null,
       "flex": null,
       "flex_flow": null,
       "grid_area": null,
       "grid_auto_columns": null,
       "grid_auto_flow": null,
       "grid_auto_rows": null,
       "grid_column": null,
       "grid_gap": null,
       "grid_row": null,
       "grid_template_areas": null,
       "grid_template_columns": null,
       "grid_template_rows": null,
       "height": null,
       "justify_content": null,
       "justify_items": null,
       "left": null,
       "margin": null,
       "max_height": null,
       "max_width": null,
       "min_height": null,
       "min_width": null,
       "object_fit": null,
       "object_position": null,
       "order": null,
       "overflow": null,
       "overflow_x": null,
       "overflow_y": null,
       "padding": null,
       "right": null,
       "top": null,
       "visibility": null,
       "width": null
      }
     },
     "c3e314ed238547858cf21dd1a45fa989": {
      "model_module": "@jupyter-widgets/controls",
      "model_module_version": "1.5.0",
      "model_name": "HBoxModel",
      "state": {
       "_dom_classes": [],
       "_model_module": "@jupyter-widgets/controls",
       "_model_module_version": "1.5.0",
       "_model_name": "HBoxModel",
       "_view_count": null,
       "_view_module": "@jupyter-widgets/controls",
       "_view_module_version": "1.5.0",
       "_view_name": "HBoxView",
       "box_style": "",
       "children": [
        "IPY_MODEL_d8d7995a3c384469b51cc2ebfb201552",
        "IPY_MODEL_c4c7a0ed28ea4123858aef3481422729",
        "IPY_MODEL_8b382127a24e4391b32790c4509a9981"
       ],
       "layout": "IPY_MODEL_b5d1c3e03f714a4990ef7a54a40334f2"
      }
     },
     "c4c7a0ed28ea4123858aef3481422729": {
      "model_module": "@jupyter-widgets/controls",
      "model_module_version": "1.5.0",
      "model_name": "FloatProgressModel",
      "state": {
       "_dom_classes": [],
       "_model_module": "@jupyter-widgets/controls",
       "_model_module_version": "1.5.0",
       "_model_name": "FloatProgressModel",
       "_view_count": null,
       "_view_module": "@jupyter-widgets/controls",
       "_view_module_version": "1.5.0",
       "_view_name": "ProgressView",
       "bar_style": "success",
       "description": "",
       "description_tooltip": null,
       "layout": "IPY_MODEL_f25855cc8be04eb9ba460005db17acbf",
       "max": 3,
       "min": 0,
       "orientation": "horizontal",
       "style": "IPY_MODEL_b028afcd6a4f4c46909bb0148d56056f",
       "value": 3
      }
     },
     "d8d7995a3c384469b51cc2ebfb201552": {
      "model_module": "@jupyter-widgets/controls",
      "model_module_version": "1.5.0",
      "model_name": "HTMLModel",
      "state": {
       "_dom_classes": [],
       "_model_module": "@jupyter-widgets/controls",
       "_model_module_version": "1.5.0",
       "_model_name": "HTMLModel",
       "_view_count": null,
       "_view_module": "@jupyter-widgets/controls",
       "_view_module_version": "1.5.0",
       "_view_name": "HTMLView",
       "description": "",
       "description_tooltip": null,
       "layout": "IPY_MODEL_0698e2de313448acb8211b0bb3bb7930",
       "placeholder": "​",
       "style": "IPY_MODEL_a75346d1336640b583bddd58d8302fc5",
       "value": "100%"
      }
     },
     "f25855cc8be04eb9ba460005db17acbf": {
      "model_module": "@jupyter-widgets/base",
      "model_module_version": "1.2.0",
      "model_name": "LayoutModel",
      "state": {
       "_model_module": "@jupyter-widgets/base",
       "_model_module_version": "1.2.0",
       "_model_name": "LayoutModel",
       "_view_count": null,
       "_view_module": "@jupyter-widgets/base",
       "_view_module_version": "1.2.0",
       "_view_name": "LayoutView",
       "align_content": null,
       "align_items": null,
       "align_self": null,
       "border": null,
       "bottom": null,
       "display": null,
       "flex": null,
       "flex_flow": null,
       "grid_area": null,
       "grid_auto_columns": null,
       "grid_auto_flow": null,
       "grid_auto_rows": null,
       "grid_column": null,
       "grid_gap": null,
       "grid_row": null,
       "grid_template_areas": null,
       "grid_template_columns": null,
       "grid_template_rows": null,
       "height": null,
       "justify_content": null,
       "justify_items": null,
       "left": null,
       "margin": null,
       "max_height": null,
       "max_width": null,
       "min_height": null,
       "min_width": null,
       "object_fit": null,
       "object_position": null,
       "order": null,
       "overflow": null,
       "overflow_x": null,
       "overflow_y": null,
       "padding": null,
       "right": null,
       "top": null,
       "visibility": null,
       "width": null
      }
     },
     "fb903db1baa24f429dc181b3c6cb8d29": {
      "model_module": "@jupyter-widgets/controls",
      "model_module_version": "1.5.0",
      "model_name": "DescriptionStyleModel",
      "state": {
       "_model_module": "@jupyter-widgets/controls",
       "_model_module_version": "1.5.0",
       "_model_name": "DescriptionStyleModel",
       "_view_count": null,
       "_view_module": "@jupyter-widgets/base",
       "_view_module_version": "1.2.0",
       "_view_name": "StyleView",
       "description_width": ""
      }
     },
     "fbcb838f38d146bab1edef40caf36c93": {
      "model_module": "@jupyter-widgets/controls",
      "model_module_version": "1.5.0",
      "model_name": "HTMLModel",
      "state": {
       "_dom_classes": [],
       "_model_module": "@jupyter-widgets/controls",
       "_model_module_version": "1.5.0",
       "_model_name": "HTMLModel",
       "_view_count": null,
       "_view_module": "@jupyter-widgets/controls",
       "_view_module_version": "1.5.0",
       "_view_name": "HTMLView",
       "description": "",
       "description_tooltip": null,
       "layout": "IPY_MODEL_41b265491f174fcfaa731475ba224267",
       "placeholder": "​",
       "style": "IPY_MODEL_5d8fd9ca2b2b44c1841eb8d83ab119e2",
       "value": " 1/1 [00:14&lt;00:00, 14.68s/it]"
      }
     }
    },
    "version_major": 2,
    "version_minor": 0
   }
  }
 },
 "nbformat": 4,
 "nbformat_minor": 5
}
