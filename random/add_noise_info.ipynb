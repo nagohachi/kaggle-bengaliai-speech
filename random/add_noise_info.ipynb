{
 "cells": [
  {
   "cell_type": "code",
   "execution_count": 51,
   "metadata": {},
   "outputs": [],
   "source": [
    "import os\n",
    "from pathlib import Path\n",
    "import pandas as pd"
   ]
  },
  {
   "cell_type": "code",
   "execution_count": 52,
   "metadata": {},
   "outputs": [],
   "source": [
    "# paths\n",
    "ROOT = Path.cwd().parent\n",
    "INPUT = ROOT / \"input\"\n",
    "DATA = INPUT / \"bengaliai-speech\"\n",
    "INSPECT = INPUT / \"inspect\"\n",
    "TRAIN = DATA / \"train_mp3s\"\n",
    "TRAIN_WAV = DATA / \"train_wavs\"\n",
    "TRAIN_WAV_NOISE_REDUCED = DATA / \"train_wavs_noise_reduced\"\n",
    "TEST = DATA / \"test_mp3s\"\n",
    "MACRO_NORMALIZATION = INPUT / \"macro-normalization\""
   ]
  },
  {
   "cell_type": "code",
   "execution_count": 53,
   "metadata": {},
   "outputs": [],
   "source": [
    "train = pd.read_csv(DATA / \"train.csv\")\n",
    "normalized = pd.read_csv(MACRO_NORMALIZATION / \"normalized.csv\")\n",
    "inspect = pd.read_csv(INSPECT / \"NISQA_wavfiles.csv\")"
   ]
  },
  {
   "cell_type": "code",
   "execution_count": 54,
   "metadata": {},
   "outputs": [
    {
     "name": "stdout",
     "output_type": "stream",
     "text": [
      "             id                                           sentence  split\n",
      "0  000005f3362c                              ও বলেছে আপনার ঠিকানা!  train\n",
      "1  00001dddd002                 কোন মহান রাষ্ট্রের নাগরিক হতে চাও?  train\n",
      "2  00001e0bc131     আমি তোমার কষ্টটা বুঝছি, কিন্তু এটা সঠিক পথ না।  train\n",
      "3  000024b3d810  নাচ শেষ হওয়ার পর সকলে শরীর ধুয়ে একসঙ্গে ভোজন...  train\n",
      "4  000028220ab3                                হুমম, ওহ হেই, দেখো।  train\n",
      "             id                                           sentence  split  \\\n",
      "0  000005f3362c                              ও বলেছে আপনার ঠিকানা!  train   \n",
      "1  00001dddd002                 কোন মহান রাষ্ট্রের নাগরিক হতে চাও?  train   \n",
      "2  00001e0bc131     আমি তোমার কষ্টটা বুঝছি, কিন্তু এটা সঠিক পথ না।  train   \n",
      "3  000024b3d810  নাচ শেষ হওয়ার পর সকলে শরীর ধুয়ে একসঙ্গে ভোজন...  train   \n",
      "4  000028220ab3                                হুমম, ওহ হেই, দেখো।  train   \n",
      "\n",
      "                                          normalized  \n",
      "0                              ও বলেছে আপনার ঠিকানা!  \n",
      "1                 কোন মহান রাষ্ট্রের নাগরিক হতে চাও?  \n",
      "2     আমি তোমার কষ্টটা বুঝছি, কিন্তু এটা সঠিক পথ না।  \n",
      "3  নাচ শেষ হওয়ার পর সকলে শরীর ধুয়ে একসঙ্গে ভোজন ক...  \n",
      "4                                হুমম, ওহ হেই, দেখো।  \n"
     ]
    }
   ],
   "source": [
    "print(train.head())\n",
    "print(normalized.head())"
   ]
  },
  {
   "cell_type": "code",
   "execution_count": 55,
   "metadata": {},
   "outputs": [],
   "source": [
    "# normalized の id, normalized の列のみ抜き出し\n",
    "normalized = normalized.loc[:, [\"id\", \"normalized\"]]"
   ]
  },
  {
   "cell_type": "code",
   "execution_count": 56,
   "metadata": {},
   "outputs": [],
   "source": [
    "# train と normalized[\"normalized\"] を id で結合\n",
    "train = pd.merge(train, normalized, on=\"id\", how=\"left\")"
   ]
  },
  {
   "cell_type": "code",
   "execution_count": 57,
   "metadata": {},
   "outputs": [],
   "source": [
    "# train の normalized を sentence_normalized に変更\n",
    "train = train.rename(columns={\"normalized\": \"sentence_normalized\"})"
   ]
  },
  {
   "cell_type": "code",
   "execution_count": 58,
   "metadata": {},
   "outputs": [],
   "source": [
    "# inspect の列 \"deg_mp3\" を \"id\" に変更\n",
    "inspect.rename(columns={\"deg_mp3\": \"id\"}, inplace=True)\n",
    "# inspect の列 \"id\" の末尾にある .mp3 を削除\n",
    "inspect[\"id\"] = inspect[\"id\"].str.replace(\".mp3\", \"\")\n",
    "# inspect から 列 \"deg\" を削除\n",
    "inspect.drop(\"deg\", axis=1, inplace=True)"
   ]
  },
  {
   "cell_type": "code",
   "execution_count": 59,
   "metadata": {},
   "outputs": [
    {
     "data": {
      "text/html": [
       "<div>\n",
       "<style scoped>\n",
       "    .dataframe tbody tr th:only-of-type {\n",
       "        vertical-align: middle;\n",
       "    }\n",
       "\n",
       "    .dataframe tbody tr th {\n",
       "        vertical-align: top;\n",
       "    }\n",
       "\n",
       "    .dataframe thead th {\n",
       "        text-align: right;\n",
       "    }\n",
       "</style>\n",
       "<table border=\"1\" class=\"dataframe\">\n",
       "  <thead>\n",
       "    <tr style=\"text-align: right;\">\n",
       "      <th></th>\n",
       "      <th>mos_pred</th>\n",
       "      <th>noi_pred</th>\n",
       "      <th>dis_pred</th>\n",
       "      <th>col_pred</th>\n",
       "      <th>loud_pred</th>\n",
       "      <th>model</th>\n",
       "      <th>id</th>\n",
       "    </tr>\n",
       "  </thead>\n",
       "  <tbody>\n",
       "    <tr>\n",
       "      <th>0</th>\n",
       "      <td>2.810660</td>\n",
       "      <td>3.060386</td>\n",
       "      <td>3.349879</td>\n",
       "      <td>3.030119</td>\n",
       "      <td>3.400320</td>\n",
       "      <td>NISQAv2</td>\n",
       "      <td>67af5635e163</td>\n",
       "    </tr>\n",
       "    <tr>\n",
       "      <th>1</th>\n",
       "      <td>1.781602</td>\n",
       "      <td>2.869787</td>\n",
       "      <td>1.852019</td>\n",
       "      <td>2.256710</td>\n",
       "      <td>3.204139</td>\n",
       "      <td>NISQAv2</td>\n",
       "      <td>67ff3e6bf4cf</td>\n",
       "    </tr>\n",
       "    <tr>\n",
       "      <th>2</th>\n",
       "      <td>3.304557</td>\n",
       "      <td>3.737251</td>\n",
       "      <td>4.092661</td>\n",
       "      <td>3.244866</td>\n",
       "      <td>3.618690</td>\n",
       "      <td>NISQAv2</td>\n",
       "      <td>6741c3d88006</td>\n",
       "    </tr>\n",
       "    <tr>\n",
       "      <th>3</th>\n",
       "      <td>3.193850</td>\n",
       "      <td>3.710290</td>\n",
       "      <td>4.136703</td>\n",
       "      <td>2.662462</td>\n",
       "      <td>3.430386</td>\n",
       "      <td>NISQAv2</td>\n",
       "      <td>67c631a6fbfd</td>\n",
       "    </tr>\n",
       "    <tr>\n",
       "      <th>4</th>\n",
       "      <td>2.525036</td>\n",
       "      <td>4.105721</td>\n",
       "      <td>2.742880</td>\n",
       "      <td>2.955755</td>\n",
       "      <td>3.561888</td>\n",
       "      <td>NISQAv2</td>\n",
       "      <td>671616b12c10</td>\n",
       "    </tr>\n",
       "  </tbody>\n",
       "</table>\n",
       "</div>"
      ],
      "text/plain": [
       "   mos_pred  noi_pred  dis_pred  col_pred  loud_pred    model            id\n",
       "0  2.810660  3.060386  3.349879  3.030119   3.400320  NISQAv2  67af5635e163\n",
       "1  1.781602  2.869787  1.852019  2.256710   3.204139  NISQAv2  67ff3e6bf4cf\n",
       "2  3.304557  3.737251  4.092661  3.244866   3.618690  NISQAv2  6741c3d88006\n",
       "3  3.193850  3.710290  4.136703  2.662462   3.430386  NISQAv2  67c631a6fbfd\n",
       "4  2.525036  4.105721  2.742880  2.955755   3.561888  NISQAv2  671616b12c10"
      ]
     },
     "execution_count": 59,
     "metadata": {},
     "output_type": "execute_result"
    }
   ],
   "source": [
    "inspect.head()"
   ]
  },
  {
   "cell_type": "code",
   "execution_count": 60,
   "metadata": {},
   "outputs": [],
   "source": [
    "# train と inspect を id で結合\n",
    "train = pd.merge(train, inspect, on=\"id\", how=\"left\")"
   ]
  },
  {
   "cell_type": "code",
   "execution_count": 61,
   "metadata": {},
   "outputs": [
    {
     "data": {
      "text/html": [
       "<div>\n",
       "<style scoped>\n",
       "    .dataframe tbody tr th:only-of-type {\n",
       "        vertical-align: middle;\n",
       "    }\n",
       "\n",
       "    .dataframe tbody tr th {\n",
       "        vertical-align: top;\n",
       "    }\n",
       "\n",
       "    .dataframe thead th {\n",
       "        text-align: right;\n",
       "    }\n",
       "</style>\n",
       "<table border=\"1\" class=\"dataframe\">\n",
       "  <thead>\n",
       "    <tr style=\"text-align: right;\">\n",
       "      <th></th>\n",
       "      <th>id</th>\n",
       "      <th>sentence</th>\n",
       "      <th>split</th>\n",
       "      <th>sentence_normalized</th>\n",
       "      <th>mos_pred</th>\n",
       "      <th>noi_pred</th>\n",
       "      <th>dis_pred</th>\n",
       "      <th>col_pred</th>\n",
       "      <th>loud_pred</th>\n",
       "      <th>model</th>\n",
       "    </tr>\n",
       "  </thead>\n",
       "  <tbody>\n",
       "    <tr>\n",
       "      <th>0</th>\n",
       "      <td>000005f3362c</td>\n",
       "      <td>ও বলেছে আপনার ঠিকানা!</td>\n",
       "      <td>train</td>\n",
       "      <td>ও বলেছে আপনার ঠিকানা!</td>\n",
       "      <td>1.186883</td>\n",
       "      <td>1.957373</td>\n",
       "      <td>2.047115</td>\n",
       "      <td>2.520171</td>\n",
       "      <td>3.803196</td>\n",
       "      <td>NISQAv2</td>\n",
       "    </tr>\n",
       "    <tr>\n",
       "      <th>1</th>\n",
       "      <td>00001dddd002</td>\n",
       "      <td>কোন মহান রাষ্ট্রের নাগরিক হতে চাও?</td>\n",
       "      <td>train</td>\n",
       "      <td>কোন মহান রাষ্ট্রের নাগরিক হতে চাও?</td>\n",
       "      <td>2.437460</td>\n",
       "      <td>3.635978</td>\n",
       "      <td>2.506423</td>\n",
       "      <td>2.933909</td>\n",
       "      <td>3.477913</td>\n",
       "      <td>NISQAv2</td>\n",
       "    </tr>\n",
       "    <tr>\n",
       "      <th>2</th>\n",
       "      <td>00001e0bc131</td>\n",
       "      <td>আমি তোমার কষ্টটা বুঝছি, কিন্তু এটা সঠিক পথ না।</td>\n",
       "      <td>train</td>\n",
       "      <td>আমি তোমার কষ্টটা বুঝছি, কিন্তু এটা সঠিক পথ না।</td>\n",
       "      <td>3.454123</td>\n",
       "      <td>4.071897</td>\n",
       "      <td>3.892286</td>\n",
       "      <td>3.357083</td>\n",
       "      <td>3.859698</td>\n",
       "      <td>NISQAv2</td>\n",
       "    </tr>\n",
       "    <tr>\n",
       "      <th>3</th>\n",
       "      <td>000024b3d810</td>\n",
       "      <td>নাচ শেষ হওয়ার পর সকলে শরীর ধুয়ে একসঙ্গে ভোজন...</td>\n",
       "      <td>train</td>\n",
       "      <td>নাচ শেষ হওয়ার পর সকলে শরীর ধুয়ে একসঙ্গে ভোজন ক...</td>\n",
       "      <td>4.646200</td>\n",
       "      <td>4.264368</td>\n",
       "      <td>4.742208</td>\n",
       "      <td>4.627210</td>\n",
       "      <td>4.681022</td>\n",
       "      <td>NISQAv2</td>\n",
       "    </tr>\n",
       "    <tr>\n",
       "      <th>4</th>\n",
       "      <td>000028220ab3</td>\n",
       "      <td>হুমম, ওহ হেই, দেখো।</td>\n",
       "      <td>train</td>\n",
       "      <td>হুমম, ওহ হেই, দেখো।</td>\n",
       "      <td>2.385079</td>\n",
       "      <td>3.696991</td>\n",
       "      <td>2.110702</td>\n",
       "      <td>2.627843</td>\n",
       "      <td>2.049779</td>\n",
       "      <td>NISQAv2</td>\n",
       "    </tr>\n",
       "  </tbody>\n",
       "</table>\n",
       "</div>"
      ],
      "text/plain": [
       "             id                                           sentence  split  \\\n",
       "0  000005f3362c                              ও বলেছে আপনার ঠিকানা!  train   \n",
       "1  00001dddd002                 কোন মহান রাষ্ট্রের নাগরিক হতে চাও?  train   \n",
       "2  00001e0bc131     আমি তোমার কষ্টটা বুঝছি, কিন্তু এটা সঠিক পথ না।  train   \n",
       "3  000024b3d810  নাচ শেষ হওয়ার পর সকলে শরীর ধুয়ে একসঙ্গে ভোজন...  train   \n",
       "4  000028220ab3                                হুমম, ওহ হেই, দেখো।  train   \n",
       "\n",
       "                                 sentence_normalized  mos_pred  noi_pred  \\\n",
       "0                              ও বলেছে আপনার ঠিকানা!  1.186883  1.957373   \n",
       "1                 কোন মহান রাষ্ট্রের নাগরিক হতে চাও?  2.437460  3.635978   \n",
       "2     আমি তোমার কষ্টটা বুঝছি, কিন্তু এটা সঠিক পথ না।  3.454123  4.071897   \n",
       "3  নাচ শেষ হওয়ার পর সকলে শরীর ধুয়ে একসঙ্গে ভোজন ক...  4.646200  4.264368   \n",
       "4                                হুমম, ওহ হেই, দেখো।  2.385079  3.696991   \n",
       "\n",
       "   dis_pred  col_pred  loud_pred    model  \n",
       "0  2.047115  2.520171   3.803196  NISQAv2  \n",
       "1  2.506423  2.933909   3.477913  NISQAv2  \n",
       "2  3.892286  3.357083   3.859698  NISQAv2  \n",
       "3  4.742208  4.627210   4.681022  NISQAv2  \n",
       "4  2.110702  2.627843   2.049779  NISQAv2  "
      ]
     },
     "execution_count": 61,
     "metadata": {},
     "output_type": "execute_result"
    }
   ],
   "source": [
    "train.head()"
   ]
  },
  {
   "cell_type": "code",
   "execution_count": null,
   "metadata": {},
   "outputs": [],
   "source": [
    "# train を上書き\n",
    "train.to_csv(DATA / \"train_normalized_with_noise_info.csv\", index=False)"
   ]
  }
 ],
 "metadata": {
  "kernelspec": {
   "display_name": ".venv",
   "language": "python",
   "name": "python3"
  },
  "language_info": {
   "codemirror_mode": {
    "name": "ipython",
    "version": 3
   },
   "file_extension": ".py",
   "mimetype": "text/x-python",
   "name": "python",
   "nbconvert_exporter": "python",
   "pygments_lexer": "ipython3",
   "version": "3.10.12"
  },
  "orig_nbformat": 4
 },
 "nbformat": 4,
 "nbformat_minor": 2
}
