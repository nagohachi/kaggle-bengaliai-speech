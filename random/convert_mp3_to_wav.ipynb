{
 "cells": [
  {
   "cell_type": "code",
   "execution_count": 2,
   "metadata": {},
   "outputs": [],
   "source": [
    "from os import path\n",
    "import os\n",
    "from pydub import AudioSegment\n",
    "import pandas as pd"
   ]
  },
  {
   "cell_type": "code",
   "execution_count": 3,
   "metadata": {},
   "outputs": [],
   "source": [
    "from pathlib import Path\n",
    "\n",
    "ROOT_DIR = Path.cwd().parent\n",
    "INPUT_DIR = ROOT_DIR / 'input'\n",
    "DATA_DIR = INPUT_DIR / \"bengaliai-speech\"\n",
    "TRAIN_MP3_DIR = DATA_DIR / \"train_mp3s\"\n",
    "TRAIN_WAV_DIR = INPUT_DIR / \"train_wavs\"\n",
    "\n",
    "if os.path.exists(TRAIN_WAV_DIR) == False:\n",
    "    os.mkdir(TRAIN_WAV_DIR)"
   ]
  },
  {
   "cell_type": "code",
   "execution_count": 4,
   "metadata": {},
   "outputs": [
    {
     "data": {
      "text/html": [
       "<div>\n",
       "<style scoped>\n",
       "    .dataframe tbody tr th:only-of-type {\n",
       "        vertical-align: middle;\n",
       "    }\n",
       "\n",
       "    .dataframe tbody tr th {\n",
       "        vertical-align: top;\n",
       "    }\n",
       "\n",
       "    .dataframe thead th {\n",
       "        text-align: right;\n",
       "    }\n",
       "</style>\n",
       "<table border=\"1\" class=\"dataframe\">\n",
       "  <thead>\n",
       "    <tr style=\"text-align: right;\">\n",
       "      <th></th>\n",
       "      <th>id</th>\n",
       "      <th>sentence</th>\n",
       "      <th>split</th>\n",
       "    </tr>\n",
       "  </thead>\n",
       "  <tbody>\n",
       "    <tr>\n",
       "      <th>0</th>\n",
       "      <td>000005f3362c</td>\n",
       "      <td>ও বলেছে আপনার ঠিকানা!</td>\n",
       "      <td>train</td>\n",
       "    </tr>\n",
       "    <tr>\n",
       "      <th>1</th>\n",
       "      <td>00001dddd002</td>\n",
       "      <td>কোন মহান রাষ্ট্রের নাগরিক হতে চাও?</td>\n",
       "      <td>train</td>\n",
       "    </tr>\n",
       "    <tr>\n",
       "      <th>2</th>\n",
       "      <td>00001e0bc131</td>\n",
       "      <td>আমি তোমার কষ্টটা বুঝছি, কিন্তু এটা সঠিক পথ না।</td>\n",
       "      <td>train</td>\n",
       "    </tr>\n",
       "    <tr>\n",
       "      <th>3</th>\n",
       "      <td>000024b3d810</td>\n",
       "      <td>নাচ শেষ হওয়ার পর সকলে শরীর ধুয়ে একসঙ্গে ভোজন...</td>\n",
       "      <td>train</td>\n",
       "    </tr>\n",
       "    <tr>\n",
       "      <th>4</th>\n",
       "      <td>000028220ab3</td>\n",
       "      <td>হুমম, ওহ হেই, দেখো।</td>\n",
       "      <td>train</td>\n",
       "    </tr>\n",
       "  </tbody>\n",
       "</table>\n",
       "</div>"
      ],
      "text/plain": [
       "             id                                           sentence  split\n",
       "0  000005f3362c                              ও বলেছে আপনার ঠিকানা!  train\n",
       "1  00001dddd002                 কোন মহান রাষ্ট্রের নাগরিক হতে চাও?  train\n",
       "2  00001e0bc131     আমি তোমার কষ্টটা বুঝছি, কিন্তু এটা সঠিক পথ না।  train\n",
       "3  000024b3d810  নাচ শেষ হওয়ার পর সকলে শরীর ধুয়ে একসঙ্গে ভোজন...  train\n",
       "4  000028220ab3                                হুমম, ওহ হেই, দেখো।  train"
      ]
     },
     "execution_count": 4,
     "metadata": {},
     "output_type": "execute_result"
    }
   ],
   "source": [
    "train_df = pd.read_csv(DATA_DIR / \"train.csv\")\n",
    "train_df.head()"
   ]
  },
  {
   "cell_type": "code",
   "execution_count": 5,
   "metadata": {},
   "outputs": [
    {
     "name": "stdout",
     "output_type": "stream",
     "text": [
      "898877\n"
     ]
    }
   ],
   "source": [
    "# TRAIN_WAV = DATA_DIR / \"train_wavs\" の中にあるファイルの個数\n",
    "import os\n",
    "print(len(os.listdir(TRAIN_WAV_DIR)))"
   ]
  },
  {
   "cell_type": "code",
   "execution_count": 6,
   "metadata": {},
   "outputs": [],
   "source": [
    "# test_df の、\"id\" 列の .mp3 を削除\n",
    "# test_df = pd.read_csv(DATA_DIR / \"test.csv\")\n",
    "# test_df[\"id\"] = test_df[\"id\"].str.replace(\".mp3\", \"\")"
   ]
  },
  {
   "cell_type": "code",
   "execution_count": 7,
   "metadata": {},
   "outputs": [
    {
     "data": {
      "text/plain": [
       "963636"
      ]
     },
     "execution_count": 7,
     "metadata": {},
     "output_type": "execute_result"
    }
   ],
   "source": [
    "train_ids = train_df['id'].tolist()\n",
    "len(train_ids)"
   ]
  },
  {
   "cell_type": "code",
   "execution_count": 8,
   "metadata": {},
   "outputs": [
    {
     "data": {
      "text/plain": [
       "32"
      ]
     },
     "execution_count": 8,
     "metadata": {},
     "output_type": "execute_result"
    }
   ],
   "source": [
    "from joblib import Parallel, delayed\n",
    "import multiprocessing as mp\n",
    "from multiprocessing import cpu_count\n",
    "cpu_count()"
   ]
  },
  {
   "cell_type": "code",
   "execution_count": 9,
   "metadata": {},
   "outputs": [],
   "source": [
    "def process(train_id):\n",
    "    src_path = TRAIN_MP3_DIR / f'{train_id}.mp3'\n",
    "    dst_path = TRAIN_WAV_DIR / f'{train_id}.wav'\n",
    "    sound = AudioSegment.from_mp3(src_path)\n",
    "    # もし 4 秒以上あるようなら 4 秒までを wav に変換\n",
    "    if len(sound) >= 4000:\n",
    "        sound = sound[:4000]\n",
    "    sound.export(dst_path, format=\"wav\")"
   ]
  },
  {
   "cell_type": "code",
   "execution_count": 10,
   "metadata": {},
   "outputs": [],
   "source": [
    "# from tqdm import tqdm\n",
    "# _ = Parallel(n_jobs=cpu_count())(\n",
    "#     delayed(process)(train_id)\n",
    "#     for train_id in tqdm(train_ids)\n",
    "# )"
   ]
  },
  {
   "cell_type": "code",
   "execution_count": 21,
   "metadata": {},
   "outputs": [
    {
     "name": "stdout",
     "output_type": "stream",
     "text": [
      "145845\n"
     ]
    }
   ],
   "source": [
    "# TRAIN_MP3_DIR の中にあるファイルを一つ取り、os.path.getsize() でサイズを取得して print\n",
    "import os\n",
    "max_size = 0\n",
    "\n",
    "for train_id in train_ids:\n",
    "    src_path = TRAIN_MP3_DIR / f'{train_id}'\n",
    "    size = os.path.getsize(src_path)\n",
    "    if size > max_size:\n",
    "        max_size = size\n",
    "\n",
    "print(max_size)"
   ]
  },
  {
   "cell_type": "code",
   "execution_count": 12,
   "metadata": {},
   "outputs": [
    {
     "name": "stdout",
     "output_type": "stream",
     "text": [
      "485361\n"
     ]
    }
   ],
   "source": [
    "import os\n",
    "example_file_size = os.path.getsize(DATA_DIR / \"examples/Slang Profanity.mp3\")\n",
    "print(example_file_size)"
   ]
  },
  {
   "cell_type": "code",
   "execution_count": 13,
   "metadata": {},
   "outputs": [],
   "source": [
    "import os\n",
    "train_ids = sorted(os.listdir(TRAIN_MP3_DIR))\n",
    "train_wav_ids = sorted(os.listdir(TRAIN_WAV_DIR))\n",
    "\n",
    "train_ids_without_extension = [train_id.split('.')[0] for train_id in train_ids]\n",
    "train_wav_ids_without_extension = [train_id.split('.')[0] for train_id in train_wav_ids]"
   ]
  },
  {
   "cell_type": "code",
   "execution_count": 14,
   "metadata": {},
   "outputs": [],
   "source": [
    "# train_wav_ids_without_extension_set = set(train_wav_ids_without_extension)\n",
    "\n",
    "# for train_id in train_ids_without_extension:\n",
    "#     if train_id not in train_wav_ids_without_extension_set:\n",
    "#         process(train_id)"
   ]
  },
  {
   "cell_type": "code",
   "execution_count": 15,
   "metadata": {},
   "outputs": [
    {
     "name": "stdout",
     "output_type": "stream",
     "text": [
      "898877\n"
     ]
    }
   ],
   "source": [
    "# TRAIN_WAV = DATA_DIR / \"train_wavs\" の中にあるファイルの個数\n",
    "import os\n",
    "print(len(os.listdir(TRAIN_WAV_DIR)))"
   ]
  },
  {
   "cell_type": "code",
   "execution_count": 16,
   "metadata": {},
   "outputs": [
    {
     "ename": "KeyboardInterrupt",
     "evalue": "",
     "output_type": "error",
     "traceback": [
      "\u001b[0;31m---------------------------------------------------------------------------\u001b[0m",
      "\u001b[0;31mKeyboardInterrupt\u001b[0m                         Traceback (most recent call last)",
      "\u001b[1;32m/home/ding2/tf-practice/kaggle-Bengali.AI_Speech-Recognition/random/convert_mp3_to_wav.ipynb Cell 15\u001b[0m line \u001b[0;36m1\n\u001b[1;32m     <a href='vscode-notebook-cell://ssh-remote%2B130.54.21.130/home/ding2/tf-practice/kaggle-Bengali.AI_Speech-Recognition/random/convert_mp3_to_wav.ipynb#X16sdnNjb2RlLXJlbW90ZQ%3D%3D?line=13'>14</a>\u001b[0m total_size \u001b[39m=\u001b[39m \u001b[39m0\u001b[39m\n\u001b[1;32m     <a href='vscode-notebook-cell://ssh-remote%2B130.54.21.130/home/ding2/tf-practice/kaggle-Bengali.AI_Speech-Recognition/random/convert_mp3_to_wav.ipynb#X16sdnNjb2RlLXJlbW90ZQ%3D%3D?line=14'>15</a>\u001b[0m \u001b[39mfor\u001b[39;00m train_wav_id \u001b[39min\u001b[39;00m train_wav_ids_without_extension:\n\u001b[0;32m---> <a href='vscode-notebook-cell://ssh-remote%2B130.54.21.130/home/ding2/tf-practice/kaggle-Bengali.AI_Speech-Recognition/random/convert_mp3_to_wav.ipynb#X16sdnNjb2RlLXJlbW90ZQ%3D%3D?line=15'>16</a>\u001b[0m     file_path \u001b[39m=\u001b[39m TRAIN_WAV_DIR \u001b[39m/\u001b[39;49m \u001b[39mf\u001b[39;49m\u001b[39m\"\u001b[39;49m\u001b[39m{\u001b[39;49;00mtrain_wav_id\u001b[39m}\u001b[39;49;00m\u001b[39m.wav\u001b[39;49m\u001b[39m\"\u001b[39;49m\n\u001b[1;32m     <a href='vscode-notebook-cell://ssh-remote%2B130.54.21.130/home/ding2/tf-practice/kaggle-Bengali.AI_Speech-Recognition/random/convert_mp3_to_wav.ipynb#X16sdnNjb2RlLXJlbW90ZQ%3D%3D?line=16'>17</a>\u001b[0m     total_size \u001b[39m+\u001b[39m\u001b[39m=\u001b[39m os\u001b[39m.\u001b[39mpath\u001b[39m.\u001b[39mgetsize(file_path)\n\u001b[1;32m     <a href='vscode-notebook-cell://ssh-remote%2B130.54.21.130/home/ding2/tf-practice/kaggle-Bengali.AI_Speech-Recognition/random/convert_mp3_to_wav.ipynb#X16sdnNjb2RlLXJlbW90ZQ%3D%3D?line=18'>19</a>\u001b[0m average_size \u001b[39m=\u001b[39m total_size \u001b[39m/\u001b[39m \u001b[39mlen\u001b[39m(train_wav_ids_without_extension)\n",
      "File \u001b[0;32m~/anaconda3/envs/tf-practice/lib/python3.10/pathlib.py:855\u001b[0m, in \u001b[0;36mPurePath.__truediv__\u001b[0;34m(self, key)\u001b[0m\n\u001b[1;32m    853\u001b[0m \u001b[39mdef\u001b[39;00m \u001b[39m__truediv__\u001b[39m(\u001b[39mself\u001b[39m, key):\n\u001b[1;32m    854\u001b[0m     \u001b[39mtry\u001b[39;00m:\n\u001b[0;32m--> 855\u001b[0m         \u001b[39mreturn\u001b[39;00m \u001b[39mself\u001b[39;49m\u001b[39m.\u001b[39;49m_make_child((key,))\n\u001b[1;32m    856\u001b[0m     \u001b[39mexcept\u001b[39;00m \u001b[39mTypeError\u001b[39;00m:\n\u001b[1;32m    857\u001b[0m         \u001b[39mreturn\u001b[39;00m \u001b[39mNotImplemented\u001b[39m\n",
      "File \u001b[0;32m~/anaconda3/envs/tf-practice/lib/python3.10/pathlib.py:619\u001b[0m, in \u001b[0;36mPurePath._make_child\u001b[0;34m(self, args)\u001b[0m\n\u001b[1;32m    616\u001b[0m drv, root, parts \u001b[39m=\u001b[39m \u001b[39mself\u001b[39m\u001b[39m.\u001b[39m_parse_args(args)\n\u001b[1;32m    617\u001b[0m drv, root, parts \u001b[39m=\u001b[39m \u001b[39mself\u001b[39m\u001b[39m.\u001b[39m_flavour\u001b[39m.\u001b[39mjoin_parsed_parts(\n\u001b[1;32m    618\u001b[0m     \u001b[39mself\u001b[39m\u001b[39m.\u001b[39m_drv, \u001b[39mself\u001b[39m\u001b[39m.\u001b[39m_root, \u001b[39mself\u001b[39m\u001b[39m.\u001b[39m_parts, drv, root, parts)\n\u001b[0;32m--> 619\u001b[0m \u001b[39mreturn\u001b[39;00m \u001b[39mself\u001b[39;49m\u001b[39m.\u001b[39;49m_from_parsed_parts(drv, root, parts)\n",
      "File \u001b[0;32m~/anaconda3/envs/tf-practice/lib/python3.10/pathlib.py:600\u001b[0m, in \u001b[0;36mPurePath._from_parsed_parts\u001b[0;34m(cls, drv, root, parts)\u001b[0m\n\u001b[1;32m    597\u001b[0m     \u001b[39mself\u001b[39m\u001b[39m.\u001b[39m_parts \u001b[39m=\u001b[39m parts\n\u001b[1;32m    598\u001b[0m     \u001b[39mreturn\u001b[39;00m \u001b[39mself\u001b[39m\n\u001b[0;32m--> 600\u001b[0m \u001b[39m@classmethod\u001b[39m\n\u001b[1;32m    601\u001b[0m \u001b[39mdef\u001b[39;00m \u001b[39m_from_parsed_parts\u001b[39m(\u001b[39mcls\u001b[39m, drv, root, parts):\n\u001b[1;32m    602\u001b[0m     \u001b[39mself\u001b[39m \u001b[39m=\u001b[39m \u001b[39mobject\u001b[39m\u001b[39m.\u001b[39m\u001b[39m__new__\u001b[39m(\u001b[39mcls\u001b[39m)\n\u001b[1;32m    603\u001b[0m     \u001b[39mself\u001b[39m\u001b[39m.\u001b[39m_drv \u001b[39m=\u001b[39m drv\n",
      "\u001b[0;31mKeyboardInterrupt\u001b[0m: "
     ]
    }
   ],
   "source": [
    "# TRAIN_WAV の中に、0バイトのファイルがないか確かめる\n",
    "import os\n",
    "from pathlib import Path\n",
    "\n",
    "ROOT_DIR = Path.cwd().parent\n",
    "INPUT_DIR = ROOT_DIR / 'input'\n",
    "DATA_DIR = INPUT_DIR / \"bengaliai-speech\"\n",
    "TRAIN_WAV_DIR = INPUT_DIR / \"train_wavs\"\n",
    "\n",
    "train_wav_ids = sorted(os.listdir(TRAIN_WAV_DIR))\n",
    "train_wav_ids_without_extension = [train_id.split('.')[0] for train_id in train_wav_ids]\n",
    "\n",
    "# train_wav_ids_without_extension の中にあるファイルのサイズの平均を算出\n",
    "total_size = 0\n",
    "for train_wav_id in train_wav_ids_without_extension:\n",
    "    file_path = TRAIN_WAV_DIR / f\"{train_wav_id}.wav\"\n",
    "    total_size += os.path.getsize(file_path)\n",
    "\n",
    "average_size = total_size / len(train_wav_ids_without_extension)\n",
    "print(f\"The average size of files in TRAIN_WAV_DIR is {average_size} bytes.\")\n",
    "\n",
    "# 空のファイルがあればそのファイル名を print\n",
    "nearly_empty_files = []\n",
    "for train_wav_id in train_wav_ids_without_extension:\n",
    "    file_path = TRAIN_WAV_DIR / f\"{train_wav_id}.wav\"\n",
    "    if os.path.getsize(file_path) <= 100:\n",
    "        print(f\"{train_wav_id}.wav is empty.\")\n",
    "        nearly_empty_files.append(train_wav_id.split('.')[0])"
   ]
  },
  {
   "cell_type": "code",
   "execution_count": null,
   "metadata": {},
   "outputs": [
    {
     "name": "stderr",
     "output_type": "stream",
     "text": [
      "[wav @ 0x145fe4000b80] Cannot check for SPDIF 0KB sq=    0B f=0/0   \n",
      "Input #0, wav, from '/tmp/tmpicqjsf2q.wav':\n",
      "  Duration: N/A, bitrate: 512 kb/s\n",
      "    Stream #0:0: Audio: pcm_s16le ([1][0][0][0] / 0x0001), 32000 Hz, 1 channels, s16, 512 kb/s\n",
      "    nan M-A:    nan fd=   0 aq=    0KB vq=    0KB sq=    0B f=0/0   \r"
     ]
    },
    {
     "name": "stdout",
     "output_type": "stream",
     "text": [
      "\n"
     ]
    },
    {
     "name": "stderr",
     "output_type": "stream",
     "text": [
      "[wav @ 0x153478000b80] Cannot check for SPDIF 0KB sq=    0B f=0/0   \n",
      "Input #0, wav, from '/tmp/tmppc58keyq.wav':\n",
      "  Duration: N/A, bitrate: 512 kb/s\n",
      "    Stream #0:0: Audio: pcm_s16le ([1][0][0][0] / 0x0001), 32000 Hz, 1 channels, s16, 512 kb/s\n",
      "    nan M-A:    nan fd=   0 aq=    0KB vq=    0KB sq=    0B f=0/0   \r"
     ]
    },
    {
     "ename": "KeyboardInterrupt",
     "evalue": "",
     "output_type": "error",
     "traceback": [
      "\u001b[0;31m---------------------------------------------------------------------------\u001b[0m",
      "\u001b[0;31mKeyboardInterrupt\u001b[0m                         Traceback (most recent call last)",
      "\u001b[1;32m/home/ding2/tf-practice/kaggle-Bengali.AI_Speech-Recognition/random/convert_mp3_to_wav.ipynb Cell 14\u001b[0m line \u001b[0;36m8\n\u001b[1;32m      <a href='vscode-notebook-cell://ssh-remote%2B130.54.21.130/home/ding2/tf-practice/kaggle-Bengali.AI_Speech-Recognition/random/convert_mp3_to_wav.ipynb#X16sdnNjb2RlLXJlbW90ZQ%3D%3D?line=5'>6</a>\u001b[0m file_path \u001b[39m=\u001b[39m TRAIN_WAV_DIR \u001b[39m/\u001b[39m \u001b[39mf\u001b[39m\u001b[39m\"\u001b[39m\u001b[39m{\u001b[39;00mtrain_wav_id\u001b[39m}\u001b[39;00m\u001b[39m.wav\u001b[39m\u001b[39m\"\u001b[39m\n\u001b[1;32m      <a href='vscode-notebook-cell://ssh-remote%2B130.54.21.130/home/ding2/tf-practice/kaggle-Bengali.AI_Speech-Recognition/random/convert_mp3_to_wav.ipynb#X16sdnNjb2RlLXJlbW90ZQ%3D%3D?line=6'>7</a>\u001b[0m sound \u001b[39m=\u001b[39m AudioSegment\u001b[39m.\u001b[39mfrom_wav(file_path)\n\u001b[0;32m----> <a href='vscode-notebook-cell://ssh-remote%2B130.54.21.130/home/ding2/tf-practice/kaggle-Bengali.AI_Speech-Recognition/random/convert_mp3_to_wav.ipynb#X16sdnNjb2RlLXJlbW90ZQ%3D%3D?line=7'>8</a>\u001b[0m play(sound)\n",
      "File \u001b[0;32m~/anaconda3/envs/tf-practice/lib/python3.10/site-packages/pydub/playback.py:71\u001b[0m, in \u001b[0;36mplay\u001b[0;34m(audio_segment)\u001b[0m\n\u001b[1;32m     68\u001b[0m \u001b[39melse\u001b[39;00m:\n\u001b[1;32m     69\u001b[0m     \u001b[39mreturn\u001b[39;00m\n\u001b[0;32m---> 71\u001b[0m _play_with_ffplay(audio_segment)\n",
      "File \u001b[0;32m~/anaconda3/envs/tf-practice/lib/python3.10/site-packages/pydub/playback.py:16\u001b[0m, in \u001b[0;36m_play_with_ffplay\u001b[0;34m(seg)\u001b[0m\n\u001b[1;32m     14\u001b[0m \u001b[39mwith\u001b[39;00m NamedTemporaryFile(\u001b[39m\"\u001b[39m\u001b[39mw+b\u001b[39m\u001b[39m\"\u001b[39m, suffix\u001b[39m=\u001b[39m\u001b[39m\"\u001b[39m\u001b[39m.wav\u001b[39m\u001b[39m\"\u001b[39m) \u001b[39mas\u001b[39;00m f:\n\u001b[1;32m     15\u001b[0m     seg\u001b[39m.\u001b[39mexport(f\u001b[39m.\u001b[39mname, \u001b[39m\"\u001b[39m\u001b[39mwav\u001b[39m\u001b[39m\"\u001b[39m)\n\u001b[0;32m---> 16\u001b[0m     subprocess\u001b[39m.\u001b[39;49mcall([PLAYER, \u001b[39m\"\u001b[39;49m\u001b[39m-nodisp\u001b[39;49m\u001b[39m\"\u001b[39;49m, \u001b[39m\"\u001b[39;49m\u001b[39m-autoexit\u001b[39;49m\u001b[39m\"\u001b[39;49m, \u001b[39m\"\u001b[39;49m\u001b[39m-hide_banner\u001b[39;49m\u001b[39m\"\u001b[39;49m, f\u001b[39m.\u001b[39;49mname])\n",
      "File \u001b[0;32m~/anaconda3/envs/tf-practice/lib/python3.10/subprocess.py:347\u001b[0m, in \u001b[0;36mcall\u001b[0;34m(timeout, *popenargs, **kwargs)\u001b[0m\n\u001b[1;32m    345\u001b[0m \u001b[39mwith\u001b[39;00m Popen(\u001b[39m*\u001b[39mpopenargs, \u001b[39m*\u001b[39m\u001b[39m*\u001b[39mkwargs) \u001b[39mas\u001b[39;00m p:\n\u001b[1;32m    346\u001b[0m     \u001b[39mtry\u001b[39;00m:\n\u001b[0;32m--> 347\u001b[0m         \u001b[39mreturn\u001b[39;00m p\u001b[39m.\u001b[39;49mwait(timeout\u001b[39m=\u001b[39;49mtimeout)\n\u001b[1;32m    348\u001b[0m     \u001b[39mexcept\u001b[39;00m:  \u001b[39m# Including KeyboardInterrupt, wait handled that.\u001b[39;00m\n\u001b[1;32m    349\u001b[0m         p\u001b[39m.\u001b[39mkill()\n",
      "File \u001b[0;32m~/anaconda3/envs/tf-practice/lib/python3.10/subprocess.py:1209\u001b[0m, in \u001b[0;36mPopen.wait\u001b[0;34m(self, timeout)\u001b[0m\n\u001b[1;32m   1207\u001b[0m     endtime \u001b[39m=\u001b[39m _time() \u001b[39m+\u001b[39m timeout\n\u001b[1;32m   1208\u001b[0m \u001b[39mtry\u001b[39;00m:\n\u001b[0;32m-> 1209\u001b[0m     \u001b[39mreturn\u001b[39;00m \u001b[39mself\u001b[39;49m\u001b[39m.\u001b[39;49m_wait(timeout\u001b[39m=\u001b[39;49mtimeout)\n\u001b[1;32m   1210\u001b[0m \u001b[39mexcept\u001b[39;00m \u001b[39mKeyboardInterrupt\u001b[39;00m:\n\u001b[1;32m   1211\u001b[0m     \u001b[39m# https://bugs.python.org/issue25942\u001b[39;00m\n\u001b[1;32m   1212\u001b[0m     \u001b[39m# The first keyboard interrupt waits briefly for the child to\u001b[39;00m\n\u001b[1;32m   1213\u001b[0m     \u001b[39m# exit under the common assumption that it also received the ^C\u001b[39;00m\n\u001b[1;32m   1214\u001b[0m     \u001b[39m# generated SIGINT and will exit rapidly.\u001b[39;00m\n\u001b[1;32m   1215\u001b[0m     \u001b[39mif\u001b[39;00m timeout \u001b[39mis\u001b[39;00m \u001b[39mnot\u001b[39;00m \u001b[39mNone\u001b[39;00m:\n",
      "File \u001b[0;32m~/anaconda3/envs/tf-practice/lib/python3.10/subprocess.py:1959\u001b[0m, in \u001b[0;36mPopen._wait\u001b[0;34m(self, timeout)\u001b[0m\n\u001b[1;32m   1957\u001b[0m \u001b[39mif\u001b[39;00m \u001b[39mself\u001b[39m\u001b[39m.\u001b[39mreturncode \u001b[39mis\u001b[39;00m \u001b[39mnot\u001b[39;00m \u001b[39mNone\u001b[39;00m:\n\u001b[1;32m   1958\u001b[0m     \u001b[39mbreak\u001b[39;00m  \u001b[39m# Another thread waited.\u001b[39;00m\n\u001b[0;32m-> 1959\u001b[0m (pid, sts) \u001b[39m=\u001b[39m \u001b[39mself\u001b[39;49m\u001b[39m.\u001b[39;49m_try_wait(\u001b[39m0\u001b[39;49m)\n\u001b[1;32m   1960\u001b[0m \u001b[39m# Check the pid and loop as waitpid has been known to\u001b[39;00m\n\u001b[1;32m   1961\u001b[0m \u001b[39m# return 0 even without WNOHANG in odd situations.\u001b[39;00m\n\u001b[1;32m   1962\u001b[0m \u001b[39m# http://bugs.python.org/issue14396.\u001b[39;00m\n\u001b[1;32m   1963\u001b[0m \u001b[39mif\u001b[39;00m pid \u001b[39m==\u001b[39m \u001b[39mself\u001b[39m\u001b[39m.\u001b[39mpid:\n",
      "File \u001b[0;32m~/anaconda3/envs/tf-practice/lib/python3.10/subprocess.py:1917\u001b[0m, in \u001b[0;36mPopen._try_wait\u001b[0;34m(self, wait_flags)\u001b[0m\n\u001b[1;32m   1915\u001b[0m \u001b[39m\u001b[39m\u001b[39m\"\"\"All callers to this function MUST hold self._waitpid_lock.\"\"\"\u001b[39;00m\n\u001b[1;32m   1916\u001b[0m \u001b[39mtry\u001b[39;00m:\n\u001b[0;32m-> 1917\u001b[0m     (pid, sts) \u001b[39m=\u001b[39m os\u001b[39m.\u001b[39;49mwaitpid(\u001b[39mself\u001b[39;49m\u001b[39m.\u001b[39;49mpid, wait_flags)\n\u001b[1;32m   1918\u001b[0m \u001b[39mexcept\u001b[39;00m \u001b[39mChildProcessError\u001b[39;00m:\n\u001b[1;32m   1919\u001b[0m     \u001b[39m# This happens if SIGCLD is set to be ignored or waiting\u001b[39;00m\n\u001b[1;32m   1920\u001b[0m     \u001b[39m# for child processes has otherwise been disabled for our\u001b[39;00m\n\u001b[1;32m   1921\u001b[0m     \u001b[39m# process.  This child is dead, we can't get the status.\u001b[39;00m\n\u001b[1;32m   1922\u001b[0m     pid \u001b[39m=\u001b[39m \u001b[39mself\u001b[39m\u001b[39m.\u001b[39mpid\n",
      "\u001b[0;31mKeyboardInterrupt\u001b[0m: "
     ]
    }
   ],
   "source": [
    "# pydub を用いて、nearly_empty_files の最初 3 個のファイルを再生\n",
    "from pydub import AudioSegment\n",
    "from pydub.playback import play\n",
    "\n",
    "for train_wav_id in nearly_empty_files[:3]:\n",
    "    file_path = TRAIN_WAV_DIR / f\"{train_wav_id}.wav\"\n",
    "    sound = AudioSegment.from_wav(file_path)\n",
    "    play(sound)"
   ]
  },
  {
   "cell_type": "code",
   "execution_count": null,
   "metadata": {},
   "outputs": [
    {
     "name": "stdout",
     "output_type": "stream",
     "text": [
      "0078302500f1\n"
     ]
    },
    {
     "name": "stderr",
     "output_type": "stream",
     "text": [
      "xcb_connection_has_error() returned true\n",
      "Input #0, wav, from '/tmp/tmp7r7zq6sv.wav':   0KB sq=    0B f=0/0   \n",
      "  Duration: 00:00:05.69, bitrate: 512 kb/s\n",
      "    Stream #0:0: Audio: pcm_s16le ([1][0][0][0] / 0x0001), 32000 Hz, 1 channels, s16, 512 kb/s\n",
      "xcb_connection_has_error() returned true\n",
      "   5.55 M-A:  0.000 fd=   0 aq=    0KB vq=    0KB sq=    0B f=0/0   \r"
     ]
    },
    {
     "name": "stdout",
     "output_type": "stream",
     "text": [
      "\n",
      "007ee74acd82\n"
     ]
    },
    {
     "name": "stderr",
     "output_type": "stream",
     "text": [
      "xcb_connection_has_error() returned true\n",
      "Input #0, wav, from '/tmp/tmp0tzpwol7.wav':   0KB sq=    0B f=0/0   \n",
      "  Duration: 00:00:06.30, bitrate: 512 kb/s\n",
      "    Stream #0:0: Audio: pcm_s16le ([1][0][0][0] / 0x0001), 32000 Hz, 1 channels, s16, 512 kb/s\n",
      "xcb_connection_has_error() returned true\n",
      "   6.20 M-A:  0.000 fd=   0 aq=    0KB vq=    0KB sq=    0B f=0/0   \r"
     ]
    },
    {
     "name": "stdout",
     "output_type": "stream",
     "text": [
      "\n",
      "00f44bb24416\n"
     ]
    },
    {
     "name": "stderr",
     "output_type": "stream",
     "text": [
      "xcb_connection_has_error() returned true\n",
      "Input #0, wav, from '/tmp/tmp_dq61c0m.wav':   0KB sq=    0B f=0/0   \n",
      "  Duration: 00:00:06.52, bitrate: 512 kb/s\n",
      "    Stream #0:0: Audio: pcm_s16le ([1][0][0][0] / 0x0001), 32000 Hz, 1 channels, s16, 512 kb/s\n",
      "xcb_connection_has_error() returned true\n",
      "   6.39 M-A:  0.000 fd=   0 aq=    0KB vq=    0KB sq=    0B f=0/0   \r"
     ]
    },
    {
     "name": "stdout",
     "output_type": "stream",
     "text": [
      "\n"
     ]
    }
   ],
   "source": [
    "# pydub を用いて、nearly_empty_fies の最初 3 個と同じ id の .mp3 ファイルを再生\n",
    "for train_wav_id in nearly_empty_files[:3]:\n",
    "    print(train_wav_id)\n",
    "    file_path = TRAIN_MP3_DIR / f\"{train_wav_id}.mp3\"\n",
    "    sound = AudioSegment.from_mp3(file_path)\n",
    "    play(sound)"
   ]
  },
  {
   "cell_type": "code",
   "execution_count": null,
   "metadata": {},
   "outputs": [
    {
     "name": "stdout",
     "output_type": "stream",
     "text": [
      "000005f3362c.mp3\n"
     ]
    },
    {
     "name": "stderr",
     "output_type": "stream",
     "text": [
      "xcb_connection_has_error() returned true\n",
      "Input #0, wav, from '/tmp/tmpwodd6iy3.wav':   0KB sq=    0B f=0/0   \n",
      "  Duration: 00:00:01.12, bitrate: 512 kb/s\n",
      "    Stream #0:0: Audio: pcm_s16le ([1][0][0][0] / 0x0001), 32000 Hz, 1 channels, s16, 512 kb/s\n",
      "xcb_connection_has_error() returned true\n",
      "   1.03 M-A: -0.000 fd=   0 aq=    0KB vq=    0KB sq=    0B f=0/0   \r"
     ]
    },
    {
     "name": "stdout",
     "output_type": "stream",
     "text": [
      "\n",
      "00001dddd002.mp3\n"
     ]
    },
    {
     "name": "stderr",
     "output_type": "stream",
     "text": [
      "xcb_connection_has_error() returned true\n",
      "Input #0, wav, from '/tmp/tmplflj1k6a.wav':   0KB sq=    0B f=0/0   \n",
      "  Duration: 00:00:02.45, bitrate: 512 kb/s\n",
      "    Stream #0:0: Audio: pcm_s16le ([1][0][0][0] / 0x0001), 32000 Hz, 1 channels, s16, 512 kb/s\n",
      "xcb_connection_has_error() returned true\n",
      "   2.36 M-A:  0.000 fd=   0 aq=    0KB vq=    0KB sq=    0B f=0/0   \r"
     ]
    },
    {
     "name": "stdout",
     "output_type": "stream",
     "text": [
      "\n",
      "00001e0bc131.mp3\n"
     ]
    },
    {
     "name": "stderr",
     "output_type": "stream",
     "text": [
      "xcb_connection_has_error() returned true\n",
      "Input #0, wav, from '/tmp/tmp4mssn1yd.wav':   0KB sq=    0B f=0/0   \n",
      "  Duration: 00:00:04.72, bitrate: 512 kb/s\n",
      "    Stream #0:0: Audio: pcm_s16le ([1][0][0][0] / 0x0001), 32000 Hz, 1 channels, s16, 512 kb/s\n",
      "xcb_connection_has_error() returned true\n",
      "   4.59 M-A:  0.000 fd=   0 aq=    0KB vq=    0KB sq=    0B f=0/0   \r"
     ]
    },
    {
     "name": "stdout",
     "output_type": "stream",
     "text": [
      "\n"
     ]
    }
   ],
   "source": [
    "# pydub を用いて、nearly_empty_fies の最初 3 個と同じ id の .mp3 ファイルを再生\n",
    "for train_id in train_ids[:3]:\n",
    "    print(train_id)\n",
    "    file_path = TRAIN_MP3_DIR / f\"{train_id}\"\n",
    "    sound = AudioSegment.from_mp3(file_path)\n",
    "    play(sound)"
   ]
  }
 ],
 "metadata": {
  "kernelspec": {
   "display_name": ".venv",
   "language": "python",
   "name": "python3"
  },
  "language_info": {
   "codemirror_mode": {
    "name": "ipython",
    "version": 3
   },
   "file_extension": ".py",
   "mimetype": "text/x-python",
   "name": "python",
   "nbconvert_exporter": "python",
   "pygments_lexer": "ipython3",
   "version": "3.10.12"
  },
  "orig_nbformat": 4
 },
 "nbformat": 4,
 "nbformat_minor": 2
}
