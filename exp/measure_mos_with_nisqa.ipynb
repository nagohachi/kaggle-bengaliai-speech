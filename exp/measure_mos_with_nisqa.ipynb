{
 "cells": [
  {
   "cell_type": "code",
   "execution_count": 6,
   "metadata": {},
   "outputs": [],
   "source": [
    "import typing as tp\n",
    "from pathlib import Path\n",
    "from functools import partial\n",
    "from dataclasses import dataclass, field\n",
    "import matplotlib\n",
    "\n",
    "import pandas as pd\n",
    "import pyctcdecode\n",
    "import numpy as np\n",
    "from tqdm.notebook import tqdm\n",
    "\n",
    "import librosa\n",
    "\n",
    "import pyctcdecode\n",
    "import kenlm\n",
    "import torch\n",
    "from transformers import Wav2Vec2Processor, Wav2Vec2ProcessorWithLM, Wav2Vec2ForCTC\n",
    "from bnunicodenormalizer import Normalizer\n",
    "\n",
    "import cloudpickle as cpkl"
   ]
  },
  {
   "cell_type": "code",
   "execution_count": 7,
   "metadata": {},
   "outputs": [
    {
     "name": "stdout",
     "output_type": "stream",
     "text": [
      "/home/ding2/tf-practice/kaggle-Bengali.AI_Speech-Recognition\n"
     ]
    }
   ],
   "source": [
    "ROOT = Path.cwd().parent\n",
    "print(ROOT)\n",
    "INPUT = ROOT / \"input\"\n",
    "DATA = INPUT / \"bengaliai-speech\"\n",
    "TRAIN = DATA / \"train_mp3s\"\n",
    "TRAIN_WAV = INPUT / \"train_wavs\"\n",
    "TEST = DATA / \"test_mp3s\"\n",
    "NISQA = Path.cwd() / \"nisqa\"\n",
    "\n",
    "SAMPLING_RATE = 16_000"
   ]
  },
  {
   "cell_type": "code",
   "execution_count": 16,
   "metadata": {},
   "outputs": [],
   "source": [
    "# TRAIN_WAV の中にあるファイルを100個取り出し、../input/train_wavs_100 に保存する\n",
    "import os\n",
    "import shutil\n",
    "import random\n",
    "\n",
    "os.mkdir(INPUT / \"train_wavs_100\")\n",
    "\n",
    "files = os.listdir(TRAIN_WAV)\n",
    "\n",
    "for i in range(1000):\n",
    "    file = files[i]\n",
    "    shutil.copyfile(TRAIN_WAV / file, INPUT / \"train_wavs_100\" / file)"
   ]
  },
  {
   "cell_type": "code",
   "execution_count": 6,
   "metadata": {},
   "outputs": [],
   "source": [
    "import os, shutil\n",
    "from pathlib import Path\n",
    "ROOT = Path.cwd().parent\n",
    "INPUT = ROOT / \"input\"\n",
    "DATA = INPUT / \"bengaliai-speech\"\n",
    "TRAIN = DATA / \"train_mp3s\"\n",
    "\n",
    "files = os.listdir(TRAIN)\n",
    "\n",
    "os.mkdir(INPUT / \"train_mp3s_sample_9000\")\n",
    "\n",
    "for i in range(9000):\n",
    "    file = files[i]\n",
    "    shutil.copyfile(TRAIN / file, INPUT / \"train_mp3s_sample_9000\" / file)"
   ]
  },
  {
   "cell_type": "code",
   "execution_count": 8,
   "metadata": {},
   "outputs": [
    {
     "data": {
      "text/plain": [
       "9000"
      ]
     },
     "execution_count": 8,
     "metadata": {},
     "output_type": "execute_result"
    }
   ],
   "source": [
    "# 1000個のファイルを読み込む\n",
    "train_mp3s_sample_9000_ids = os.listdir(INPUT / \"train_mp3s_sample_9000\")\n",
    "len(train_mp3s_sample_9000_ids)"
   ]
  },
  {
   "cell_type": "code",
   "execution_count": 10,
   "metadata": {},
   "outputs": [
    {
     "name": "stdout",
     "output_type": "stream",
     "text": [
      "Device: cuda\n",
      "Model architecture: NISQA_DIM\n",
      "Loaded pretrained model from ./NISQA/weights/nisqa.tar\n",
      "# files: 1000\n",
      "---> Predicting ...\n"
     ]
    },
    {
     "name": "stderr",
     "output_type": "stream",
     "text": [
      "/home/ding2/anaconda3/envs/tf-practice/lib/python3.10/site-packages/librosa/feature/spectral.py:2143: UserWarning: Empty filters detected in mel frequency basis. Some channels will produce empty responses. Try increasing your sampling rate (and fmax) or reducing n_mels.\n",
      "  mel_basis = filters.mel(sr=sr, n_fft=n_fft, **kwargs)\n",
      "/home/ding2/anaconda3/envs/tf-practice/lib/python3.10/site-packages/librosa/feature/spectral.py:2143: UserWarning: Empty filters detected in mel frequency basis. Some channels will produce empty responses. Try increasing your sampling rate (and fmax) or reducing n_mels.\n",
      "  mel_basis = filters.mel(sr=sr, n_fft=n_fft, **kwargs)\n",
      "/home/ding2/anaconda3/envs/tf-practice/lib/python3.10/site-packages/librosa/feature/spectral.py:2143: UserWarning: Empty filters detected in mel frequency basis. Some channels will produce empty responses. Try increasing your sampling rate (and fmax) or reducing n_mels.\n",
      "  mel_basis = filters.mel(sr=sr, n_fft=n_fft, **kwargs)\n",
      "/home/ding2/anaconda3/envs/tf-practice/lib/python3.10/site-packages/librosa/feature/spectral.py:2143: UserWarning: Empty filters detected in mel frequency basis. Some channels will produce empty responses. Try increasing your sampling rate (and fmax) or reducing n_mels.\n",
      "  mel_basis = filters.mel(sr=sr, n_fft=n_fft, **kwargs)\n"
     ]
    }
   ],
   "source": [
    "%run ./NISQA/run_predict.py --mode predict_dir --pretrained_model ./NISQA/weights/nisqa.tar --data_dir ../input/train_wavs_1000 --num_workers 4 --bs 20 --output_dir ./results"
   ]
  },
  {
   "cell_type": "code",
   "execution_count": 12,
   "metadata": {},
   "outputs": [
    {
     "name": "stdout",
     "output_type": "stream",
     "text": [
      "Device: cuda\n",
      "Model architecture: NISQA_DIM\n",
      "Loaded pretrained model from ./NISQA/weights/nisqa.tar\n",
      "---> Predicting ...\n",
      "             deg  mos_pred  noi_pred  dis_pred  col_pred  loud_pred   model\n",
      "000005f3362c.wav  1.186509  1.974641  2.046838  2.519474   3.803517 NISQAv2\n"
     ]
    },
    {
     "name": "stderr",
     "output_type": "stream",
     "text": [
      "/home/ding2/anaconda3/envs/tf-practice/lib/python3.10/site-packages/librosa/feature/spectral.py:2143: UserWarning: Empty filters detected in mel frequency basis. Some channels will produce empty responses. Try increasing your sampling rate (and fmax) or reducing n_mels.\n",
      "  mel_basis = filters.mel(sr=sr, n_fft=n_fft, **kwargs)\n"
     ]
    }
   ],
   "source": [
    "%run ./NISQA/run_predict.py --mode predict_file --pretrained_model ./NISQA/weights/nisqa.tar --deg ../input/train_wavs/000005f3362c.wav --output_dir ./results"
   ]
  },
  {
   "cell_type": "code",
   "execution_count": null,
   "metadata": {},
   "outputs": [],
   "source": [
    "test = pd.read_csv(DATA / \"sample_submission.csv\", dtype={\"id\": str})"
   ]
  },
  {
   "cell_type": "code",
   "execution_count": null,
   "metadata": {},
   "outputs": [],
   "source": [
    "# train_mp3s の中にあるファイルを 8000 個取り出し、../input/train_mp3s_sample_8000 に保存する\n",
    "import os\n",
    "import shutil\n",
    "import random\n",
    "\n",
    "os.mkdir(INPUT / \"train_mp3s_sample_8000\")\n",
    "\n",
    "files = os.listdir(TRAIN)\n",
    "\n",
    "for i in range(8000):\n",
    "    file = files[i]\n",
    "    shutil.copyfile(TRAIN / file, INPUT / \"train_mp3s_sample_8000\" / file)"
   ]
  }
 ],
 "metadata": {
  "kernelspec": {
   "display_name": "tf-practice",
   "language": "python",
   "name": "python3"
  },
  "language_info": {
   "codemirror_mode": {
    "name": "ipython",
    "version": 3
   },
   "file_extension": ".py",
   "mimetype": "text/x-python",
   "name": "python",
   "nbconvert_exporter": "python",
   "pygments_lexer": "ipython3",
   "version": "3.10.12"
  },
  "orig_nbformat": 4
 },
 "nbformat": 4,
 "nbformat_minor": 2
}
