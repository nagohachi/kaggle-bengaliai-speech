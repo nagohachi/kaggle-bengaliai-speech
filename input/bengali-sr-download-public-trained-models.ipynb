{
 "cells": [
  {
   "cell_type": "markdown",
   "id": "07fb2810",
   "metadata": {
    "papermill": {
     "duration": 0.002866,
     "end_time": "2023-08-18T20:59:17.782361",
     "exception": false,
     "start_time": "2023-08-18T20:59:17.779495",
     "status": "completed"
    },
    "tags": []
   },
   "source": [
    "## This notebook downloads two public wav2vec2 models from huggingface."
   ]
  },
  {
   "cell_type": "markdown",
   "id": "6065b37d",
   "metadata": {
    "papermill": {
     "duration": 0.002124,
     "end_time": "2023-08-18T20:59:17.787193",
     "exception": false,
     "start_time": "2023-08-18T20:59:17.785069",
     "status": "completed"
    },
    "tags": []
   },
   "source": [
    "### download `ai4bharat/indicwav2vec_v1_bengali` for CTC Model only "
   ]
  },
  {
   "cell_type": "code",
   "execution_count": 1,
   "id": "8fe37e8d",
   "metadata": {
    "execution": {
     "iopub.execute_input": "2023-08-18T20:59:17.794218Z",
     "iopub.status.busy": "2023-08-18T20:59:17.793663Z",
     "iopub.status.idle": "2023-08-18T20:59:56.034976Z",
     "shell.execute_reply": "2023-08-18T20:59:56.033786Z"
    },
    "papermill": {
     "duration": 38.248371,
     "end_time": "2023-08-18T20:59:56.037926",
     "exception": false,
     "start_time": "2023-08-18T20:59:17.789555",
     "status": "completed"
    },
    "tags": []
   },
   "outputs": [
    {
     "name": "stdout",
     "output_type": "stream",
     "text": [
      "Cloning into 'indicwav2vec_v1_bengali'...\r\n",
      "remote: Enumerating objects: 12, done.\u001b[K\r\n",
      "remote: Total 12 (delta 0), reused 0 (delta 0), pack-reused 12\u001b[K\r\n",
      "Unpacking objects: 100% (12/12), 2.43 KiB | 831.00 KiB/s, done.\r\n"
     ]
    }
   ],
   "source": [
    "!git clone https://huggingface.co/ai4bharat/indicwav2vec_v1_bengali"
   ]
  },
  {
   "cell_type": "markdown",
   "id": "76d42a7f",
   "metadata": {
    "papermill": {
     "duration": 0.002468,
     "end_time": "2023-08-18T20:59:56.043214",
     "exception": false,
     "start_time": "2023-08-18T20:59:56.040746",
     "status": "completed"
    },
    "tags": []
   },
   "source": [
    "### download `arijitx/wav2vec2-xls-r-300m-bengali` for Language Model"
   ]
  },
  {
   "cell_type": "code",
   "execution_count": 2,
   "id": "9ddf9d3f",
   "metadata": {
    "execution": {
     "iopub.execute_input": "2023-08-18T20:59:56.051109Z",
     "iopub.status.busy": "2023-08-18T20:59:56.050256Z",
     "iopub.status.idle": "2023-08-18T21:01:16.344924Z",
     "shell.execute_reply": "2023-08-18T21:01:16.342338Z"
    },
    "papermill": {
     "duration": 80.305321,
     "end_time": "2023-08-18T21:01:16.351020",
     "exception": false,
     "start_time": "2023-08-18T20:59:56.045699",
     "status": "completed"
    },
    "tags": []
   },
   "outputs": [
    {
     "name": "stdout",
     "output_type": "stream",
     "text": [
      "Cloning into 'wav2vec2-xls-r-300m-bengali'...\r\n",
      "remote: Enumerating objects: 348, done.\u001b[K\r\n",
      "remote: Total 348 (delta 0), reused 0 (delta 0), pack-reused 348\u001b[K\r\n",
      "Receiving objects: 100% (348/348), 297.17 KiB | 14.15 MiB/s, done.\r\n",
      "Resolving deltas: 100% (120/120), done.\r\n",
      "Filtering content: 100% (4/4), 4.46 GiB | 58.35 MiB/s, done.\r\n"
     ]
    }
   ],
   "source": [
    "!git clone https://huggingface.co/arijitx/wav2vec2-xls-r-300m-bengali"
   ]
  }
 ],
 "metadata": {
  "kernelspec": {
   "display_name": "Python 3",
   "language": "python",
   "name": "python3"
  },
  "language_info": {
   "codemirror_mode": {
    "name": "ipython",
    "version": 3
   },
   "file_extension": ".py",
   "mimetype": "text/x-python",
   "name": "python",
   "nbconvert_exporter": "python",
   "pygments_lexer": "ipython3",
   "version": "3.10.12"
  },
  "papermill": {
   "default_parameters": {},
   "duration": 132.001457,
   "end_time": "2023-08-18T21:01:17.487657",
   "environment_variables": {},
   "exception": null,
   "input_path": "__notebook__.ipynb",
   "output_path": "__notebook__.ipynb",
   "parameters": {},
   "start_time": "2023-08-18T20:59:05.486200",
   "version": "2.4.0"
  }
 },
 "nbformat": 4,
 "nbformat_minor": 5
}
